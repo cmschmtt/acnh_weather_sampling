{
 "cells": [
  {
   "cell_type": "code",
   "execution_count": 11,
   "metadata": {},
   "outputs": [],
   "source": [
    "pattern_strings = [\n",
    "##  0 1 2 3 4 5 6 7 8 9 10 11 12 13 14 15 16 17 18 19 20 21 22 23\n",
    "\t 'F F C C F F C F C F C C F C F C C F C F F F C F',  # Fine00\n",
    "\t 'F F C F F C F C C C F C O F C F C C O C O C F C',  # Fine01\n",
    "\t 'F F C C C C C F C F O F C F C C F C O C C C F F',  # Fine02\n",
    "\t 'F C F F F C C F C C F C C O C F C C C F O F F C',  # Fine03\n",
    "\t 'F F F C C C C C C O C C F C O C F C F C C F C F',  # Fine04\n",
    "\t 'O C C F C C C C F C C F C C O C C F C O C C F C',  # Fine05\n",
    "\t 'F C F C C C O C C O F C F C C F C O O C C C F F',  # Fine06\n",
    "\t 'C C C O O O RC O O O C C O O O C C O O O RC O O C',  # Cloud00\n",
    "\t 'C O RC O O O O O C O RC O O C O O O RC RC O O C C C',  # Cloud01\n",
    "\t 'O O O RC O O O RC R R R O O RC R R R O O RC O RC O O',  # Cloud02\n",
    "\t 'C O RC R R R R RC O C RC R R R R R R O O RC R R R O',  # Rain00\n",
    "\t 'RC R R R R R R R R O RC R R O O RC HR R R R R C C O',  # Rain01\n",
    "\t 'RC O R R R R R R RC R C RC R R R O R R R RC HR R R R',  # Rain02\n",
    "\t 'R R R R R R RC R R HR HR R R HR HR HR HR R R R R R O RC', # Rain03\n",
    "\t 'R R HR HR R R R HR HR HR HR R HR HR HR R R HR HR HR HR HR HR R',  # Rain04\n",
    "\t 'RC R R HR R HR HR R R HR HR HR HR R HR HR HR HR HR HR R R O C',  # Rain05\n",
    "#  0 1 2 3 4 5 6 7 8 9 10 11 12 13 14 15 16 17 18 19 20 21 22 23\n",
    "\t 'RC O RC RC O R O O O O O C C F C C F C C C O O O O',  # FineCloud00\n",
    "\t 'O RC O O O O C C C F C C F C C O RC R R O O RC O O',  # FineCloud01\n",
    "\t 'R R O O O O F C F C C O O C O O O O O RC O RC RC R',  # FineCloud02\n",
    "\t 'F C C C C RC R R O R C O C O O C C F C C C C F F',  # CloudFine00\n",
    "\t 'C F F C C C R O O O O RC R C C O C C F C C F C C',  # CloudFine01\n",
    "\t 'C C C C C F O RC R O RC R C C C C F C F C F F C F',  # CloudFine02\n",
    "\t 'F F C C C C C F C F C F C R C C C C C F C F C C',  # FineRain00\n",
    "\t 'F C F C C C F C C F C C R O R C C C F C C C C C',  # FineRain01\n",
    "\t 'C F F C C F F C F C F C F C C HR O C F C C F C F',  # FineRain02\n",
    "\t 'F F C F C C C C F C F F C C HR R C C C F C C F C',  # FineRain03\n",
    "\t 'R R R R R R O O C O O RC R R R HR HR R R R R R R R',  # CloudRain00\n",
    "\t 'R R R R O O C C O O R R R O O RC R R R R R O R R',  # CloudRain01\n",
    "\t 'HR HR R HR R R O O O C C O O RC R R R R R R R R R RC', # CloudRain02\n",
    "\t 'O RC O O O O R R O O RC R R O RC O C C O O O O O O',  # RainCloud00\n",
    "\t 'O O O O O RC R R R R R R R R R O RC O O O O O C C',  # RainCloud01\n",
    "\t 'C C O O RC RC HR HR R R R O O R O O O O O RC O RC O O',  # RainCloud02\n",
    "#  0 1 2 3 4 5 6 7 8 9 10 11 12 13 14 15 16 17 18 19 20 21 22 23\n",
    "# \t 'F F C F F C F C C C F C O F C F C C O C O C F C',  # Commun00\n",
    "# \t 'F F C F F C F C C C F C C F C F C C F C F C F C',  # EventDay00\n",
    "]"
   ]
  },
  {
   "cell_type": "code",
   "execution_count": 18,
   "metadata": {},
   "outputs": [],
   "source": [
    "names = {\n",
    "\t'Fine00':  0,\n",
    "\t'Fine01':  1,\n",
    "\t'Fine02':  2,\n",
    "\t'Fine03':  3,\n",
    "\t'Fine04':  4,\n",
    "\t'Fine05':  5,\n",
    "\t'Fine06':  6,\n",
    "\t'Cloud00':  7,\n",
    "\t'Cloud01':  8,\n",
    "\t'Cloud02':  9,\n",
    "\t'Rain00':  10,\n",
    "\t'Rain01':  11,\n",
    "\t'Rain02':  12,\n",
    "\t'Rain03':  13,\n",
    "\t'Rain04':  14,\n",
    "\t'Rain05':  15,\n",
    "\t'FineCloud00':  16,\n",
    "\t'FineCloud01':  17,\n",
    "\t'FineCloud02':  18,\n",
    "\t'CloudFine00':  19,\n",
    "\t'CloudFine01':  20,\n",
    "\t'CloudFine02':  21,\n",
    "\t'FineRain00':  22,\n",
    "\t'FineRain01':  23,\n",
    "\t'FineRain02':  24,\n",
    "\t'FineRain03':  25,\n",
    "\t'CloudRain00':  26,\n",
    "\t'CloudRain01':  27,\n",
    "\t'CloudRain02':  28,\n",
    "\t'RainCloud00':  29,\n",
    "\t'RainCloud01':  30,\n",
    "\t'RainCloud02':  31,\n",
    "}"
   ]
  },
  {
   "cell_type": "code",
   "execution_count": 20,
   "metadata": {},
   "outputs": [],
   "source": [
    "just_names = list(names.keys())"
   ]
  },
  {
   "cell_type": "code",
   "execution_count": 23,
   "metadata": {},
   "outputs": [],
   "source": [
    "import pandas as pd"
   ]
  },
  {
   "cell_type": "code",
   "execution_count": 25,
   "metadata": {},
   "outputs": [],
   "source": [
    "pd.DataFrame({k: v for k, v in zip(just_names, patterns)}).to_csv('patterns.csv', index=False)"
   ]
  },
  {
   "cell_type": "code",
   "execution_count": 12,
   "metadata": {},
   "outputs": [],
   "source": [
    "patterns = [each.split() for each in pattern_strings]"
   ]
  },
  {
   "cell_type": "code",
   "execution_count": 13,
   "metadata": {},
   "outputs": [],
   "source": [
    "patterns_dict':  {\n",
    "    'F': 'fine',\n",
    "    'C': 'cloudy',\n",
    "    'O': 'overcast',\n",
    "    'R': 'rainy',\n",
    "    'HR': 'heavy rain'\n",
    "}"
   ]
  },
  {
   "cell_type": "code",
   "execution_count": null,
   "metadata": {},
   "outputs": [],
   "source": []
  },
  {
   "cell_type": "code",
   "execution_count": null,
   "metadata": {},
   "outputs": [],
   "source": []
  }
 ],
 "metadata": {
  "kernelspec": {
   "display_name": "Python 3",
   "language": "python",
   "name": "python3"
  },
  "language_info": {
   "codemirror_mode": {
    "name": "ipython",
    "version": 3
   },
   "file_extension": ".py",
   "mimetype": "text/x-python",
   "name": "python",
   "nbconvert_exporter": "python",
   "pygments_lexer": "ipython3",
   "version": "3.6.4"
  }
 },
 "nbformat": 4,
 "nbformat_minor": 4
}
