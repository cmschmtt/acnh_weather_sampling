{
 "cells": [
  {
   "cell_type": "code",
   "execution_count": 1,
   "metadata": {},
   "outputs": [],
   "source": [
    "import pandas as pd"
   ]
  },
  {
   "cell_type": "markdown",
   "metadata": {},
   "source": [
    "## Preprocessing\n",
    "\n",
    "- import the data\n",
    "- convert weather encodings\n",
    "- make index time-like\n",
    "- re-order based on time"
   ]
  },
  {
   "cell_type": "code",
   "execution_count": 67,
   "metadata": {},
   "outputs": [
    {
     "data": {
      "text/html": [
       "<div>\n",
       "<style scoped>\n",
       "    .dataframe tbody tr th:only-of-type {\n",
       "        vertical-align: middle;\n",
       "    }\n",
       "\n",
       "    .dataframe tbody tr th {\n",
       "        vertical-align: top;\n",
       "    }\n",
       "\n",
       "    .dataframe thead th {\n",
       "        text-align: right;\n",
       "    }\n",
       "</style>\n",
       "<table border=\"1\" class=\"dataframe\">\n",
       "  <thead>\n",
       "    <tr style=\"text-align: right;\">\n",
       "      <th></th>\n",
       "      <th>Fine00</th>\n",
       "      <th>Fine01</th>\n",
       "      <th>Fine02</th>\n",
       "      <th>Fine03</th>\n",
       "      <th>Fine04</th>\n",
       "      <th>Fine05</th>\n",
       "      <th>Fine06</th>\n",
       "      <th>Cloud00</th>\n",
       "      <th>Cloud01</th>\n",
       "      <th>Cloud02</th>\n",
       "      <th>...</th>\n",
       "      <th>FineRain00</th>\n",
       "      <th>FineRain01</th>\n",
       "      <th>FineRain02</th>\n",
       "      <th>FineRain03</th>\n",
       "      <th>CloudRain00</th>\n",
       "      <th>CloudRain01</th>\n",
       "      <th>CloudRain02</th>\n",
       "      <th>RainCloud00</th>\n",
       "      <th>RainCloud01</th>\n",
       "      <th>RainCloud02</th>\n",
       "    </tr>\n",
       "  </thead>\n",
       "  <tbody>\n",
       "    <tr>\n",
       "      <th>5:00</th>\n",
       "      <td>Clear/Fine</td>\n",
       "      <td>Sunny</td>\n",
       "      <td>Sunny</td>\n",
       "      <td>Sunny</td>\n",
       "      <td>Sunny</td>\n",
       "      <td>Sunny</td>\n",
       "      <td>Sunny</td>\n",
       "      <td>Cloudy</td>\n",
       "      <td>Cloudy</td>\n",
       "      <td>Cloudy</td>\n",
       "      <td>...</td>\n",
       "      <td>Sunny</td>\n",
       "      <td>Sunny</td>\n",
       "      <td>Clear/Fine</td>\n",
       "      <td>Sunny</td>\n",
       "      <td>Rain</td>\n",
       "      <td>Cloudy</td>\n",
       "      <td>Rain</td>\n",
       "      <td>Cloudy</td>\n",
       "      <td>Rain clouds</td>\n",
       "      <td>Rain clouds</td>\n",
       "    </tr>\n",
       "    <tr>\n",
       "      <th>6:00</th>\n",
       "      <td>Sunny</td>\n",
       "      <td>Clear/Fine</td>\n",
       "      <td>Sunny</td>\n",
       "      <td>Sunny</td>\n",
       "      <td>Sunny</td>\n",
       "      <td>Sunny</td>\n",
       "      <td>Cloudy</td>\n",
       "      <td>Rain clouds</td>\n",
       "      <td>Cloudy</td>\n",
       "      <td>Cloudy</td>\n",
       "      <td>...</td>\n",
       "      <td>Sunny</td>\n",
       "      <td>Clear/Fine</td>\n",
       "      <td>Clear/Fine</td>\n",
       "      <td>Sunny</td>\n",
       "      <td>Cloudy</td>\n",
       "      <td>Sunny</td>\n",
       "      <td>Cloudy</td>\n",
       "      <td>Rain</td>\n",
       "      <td>Rain</td>\n",
       "      <td>Heavy rain</td>\n",
       "    </tr>\n",
       "    <tr>\n",
       "      <th>7:00</th>\n",
       "      <td>Clear/Fine</td>\n",
       "      <td>Sunny</td>\n",
       "      <td>Clear/Fine</td>\n",
       "      <td>Clear/Fine</td>\n",
       "      <td>Sunny</td>\n",
       "      <td>Sunny</td>\n",
       "      <td>Sunny</td>\n",
       "      <td>Cloudy</td>\n",
       "      <td>Cloudy</td>\n",
       "      <td>Rain clouds</td>\n",
       "      <td>...</td>\n",
       "      <td>Clear/Fine</td>\n",
       "      <td>Sunny</td>\n",
       "      <td>Sunny</td>\n",
       "      <td>Sunny</td>\n",
       "      <td>Cloudy</td>\n",
       "      <td>Sunny</td>\n",
       "      <td>Cloudy</td>\n",
       "      <td>Rain</td>\n",
       "      <td>Rain</td>\n",
       "      <td>Heavy rain</td>\n",
       "    </tr>\n",
       "  </tbody>\n",
       "</table>\n",
       "<p>3 rows × 32 columns</p>\n",
       "</div>"
      ],
      "text/plain": [
       "          Fine00      Fine01      Fine02      Fine03 Fine04 Fine05  Fine06  \\\n",
       "5:00  Clear/Fine       Sunny       Sunny       Sunny  Sunny  Sunny   Sunny   \n",
       "6:00       Sunny  Clear/Fine       Sunny       Sunny  Sunny  Sunny  Cloudy   \n",
       "7:00  Clear/Fine       Sunny  Clear/Fine  Clear/Fine  Sunny  Sunny   Sunny   \n",
       "\n",
       "          Cloud00 Cloud01      Cloud02  ...  FineRain00  FineRain01  \\\n",
       "5:00       Cloudy  Cloudy       Cloudy  ...       Sunny       Sunny   \n",
       "6:00  Rain clouds  Cloudy       Cloudy  ...       Sunny  Clear/Fine   \n",
       "7:00       Cloudy  Cloudy  Rain clouds  ...  Clear/Fine       Sunny   \n",
       "\n",
       "      FineRain02 FineRain03 CloudRain00 CloudRain01 CloudRain02 RainCloud00  \\\n",
       "5:00  Clear/Fine      Sunny        Rain      Cloudy        Rain      Cloudy   \n",
       "6:00  Clear/Fine      Sunny      Cloudy       Sunny      Cloudy        Rain   \n",
       "7:00       Sunny      Sunny      Cloudy       Sunny      Cloudy        Rain   \n",
       "\n",
       "      RainCloud01  RainCloud02  \n",
       "5:00  Rain clouds  Rain clouds  \n",
       "6:00         Rain   Heavy rain  \n",
       "7:00         Rain   Heavy rain  \n",
       "\n",
       "[3 rows x 32 columns]"
      ]
     },
     "execution_count": 67,
     "metadata": {},
     "output_type": "execute_result"
    }
   ],
   "source": [
    "df = pd.read_csv('patterns.csv')\n",
    "\n",
    "# to make more readable/mimic website formatting\n",
    "patterns_dict = {\n",
    "    'F': 'Clear/Fine',\n",
    "    'C': 'Sunny',\n",
    "    'O': 'Cloudy',\n",
    "    'RC': 'Rain clouds',\n",
    "    'R': 'Rain',\n",
    "    'HR': 'Heavy rain'\n",
    "}\n",
    "\n",
    "# add time formatting\n",
    "for col in df.columns:\n",
    "    df[col] = df[col].map(patterns_dict)\n",
    "\n",
    "# order the df the same way the game orders it\n",
    "df.index = [str(each)+':00' for each in list(df.index)]\n",
    "first_five_hours = list(df.index[:5])\n",
    "rest_of_day = list(df.index[5:])\n",
    "df = df.loc[rest_of_day + first_five_hours]\n",
    "\n",
    "df.head(3)"
   ]
  },
  {
   "cell_type": "markdown",
   "metadata": {},
   "source": [
    "## Dropping types that don't exist in-game\n",
    "\n",
    "Several types are in the data I yanked which don't show up as options on the MeteoNook website - they might be for other things in the game (like Nook Miles islands.)\n",
    "\n",
    "In particular,\n",
    "\n",
    "- `Rain__` is not a user-island option\n",
    "- `FineCloud__` is not a user-island option\n",
    "- `CloudRain__` is not a user-island option\n",
    "- `RainCloud__` is not a user-island option"
   ]
  },
  {
   "cell_type": "code",
   "execution_count": 68,
   "metadata": {},
   "outputs": [
    {
     "data": {
      "text/plain": [
       "(24, 17)"
      ]
     },
     "execution_count": 68,
     "metadata": {},
     "output_type": "execute_result"
    }
   ],
   "source": [
    "# the rain types aren't found in-game:\n",
    "rain_types = ['Rain00', 'Rain01', 'Rain02', 'Rain03', 'Rain04', 'Rain05']\n",
    "finecloud_types = ['FineCloud00', 'FineCloud01', 'FineCloud02']\n",
    "cloudrain_types = ['CloudRain00', 'CloudRain01', 'CloudRain02']\n",
    "raincloud_types = ['RainCloud00', 'RainCloud01', 'RainCloud02']\n",
    "\n",
    "drop_cols = rain_types + finecloud_types + cloudrain_types + raincloud_types\n",
    "\n",
    "df.drop(columns=drop_cols, inplace=True)\n",
    "df.shape"
   ]
  },
  {
   "cell_type": "markdown",
   "metadata": {},
   "source": [
    "## OK...\n",
    "\n",
    "My question is basically \"assuming uniform probabilities\" (which might not be the case) \"is there some 2 or 3 hours that are most efficient to check?\"\n",
    "\n",
    "Basically, is any set of 2 hours unique? Is any set of 3 hours unique?\n",
    "\n",
    "I might be able to answer this question using sets, come to think of it."
   ]
  },
  {
   "cell_type": "code",
   "execution_count": 76,
   "metadata": {},
   "outputs": [],
   "source": [
    "w = list(patterns_dict.values())"
   ]
  },
  {
   "cell_type": "code",
   "execution_count": 69,
   "metadata": {},
   "outputs": [
    {
     "data": {
      "text/html": [
       "<div>\n",
       "<style scoped>\n",
       "    .dataframe tbody tr th:only-of-type {\n",
       "        vertical-align: middle;\n",
       "    }\n",
       "\n",
       "    .dataframe tbody tr th {\n",
       "        vertical-align: top;\n",
       "    }\n",
       "\n",
       "    .dataframe thead th {\n",
       "        text-align: right;\n",
       "    }\n",
       "</style>\n",
       "<table border=\"1\" class=\"dataframe\">\n",
       "  <thead>\n",
       "    <tr style=\"text-align: right;\">\n",
       "      <th></th>\n",
       "      <th>Fine00</th>\n",
       "      <th>Fine01</th>\n",
       "      <th>Fine02</th>\n",
       "      <th>Fine03</th>\n",
       "      <th>Fine04</th>\n",
       "      <th>Fine05</th>\n",
       "      <th>Fine06</th>\n",
       "      <th>Cloud00</th>\n",
       "      <th>Cloud01</th>\n",
       "      <th>Cloud02</th>\n",
       "      <th>CloudFine00</th>\n",
       "      <th>CloudFine01</th>\n",
       "      <th>CloudFine02</th>\n",
       "      <th>FineRain00</th>\n",
       "      <th>FineRain01</th>\n",
       "      <th>FineRain02</th>\n",
       "      <th>FineRain03</th>\n",
       "    </tr>\n",
       "  </thead>\n",
       "  <tbody>\n",
       "    <tr>\n",
       "      <th>5:00</th>\n",
       "      <td>Clear/Fine</td>\n",
       "      <td>Sunny</td>\n",
       "      <td>Sunny</td>\n",
       "      <td>Sunny</td>\n",
       "      <td>Sunny</td>\n",
       "      <td>Sunny</td>\n",
       "      <td>Sunny</td>\n",
       "      <td>Cloudy</td>\n",
       "      <td>Cloudy</td>\n",
       "      <td>Cloudy</td>\n",
       "      <td>Rain clouds</td>\n",
       "      <td>Sunny</td>\n",
       "      <td>Clear/Fine</td>\n",
       "      <td>Sunny</td>\n",
       "      <td>Sunny</td>\n",
       "      <td>Clear/Fine</td>\n",
       "      <td>Sunny</td>\n",
       "    </tr>\n",
       "    <tr>\n",
       "      <th>6:00</th>\n",
       "      <td>Sunny</td>\n",
       "      <td>Clear/Fine</td>\n",
       "      <td>Sunny</td>\n",
       "      <td>Sunny</td>\n",
       "      <td>Sunny</td>\n",
       "      <td>Sunny</td>\n",
       "      <td>Cloudy</td>\n",
       "      <td>Rain clouds</td>\n",
       "      <td>Cloudy</td>\n",
       "      <td>Cloudy</td>\n",
       "      <td>Rain</td>\n",
       "      <td>Rain</td>\n",
       "      <td>Cloudy</td>\n",
       "      <td>Sunny</td>\n",
       "      <td>Clear/Fine</td>\n",
       "      <td>Clear/Fine</td>\n",
       "      <td>Sunny</td>\n",
       "    </tr>\n",
       "    <tr>\n",
       "      <th>7:00</th>\n",
       "      <td>Clear/Fine</td>\n",
       "      <td>Sunny</td>\n",
       "      <td>Clear/Fine</td>\n",
       "      <td>Clear/Fine</td>\n",
       "      <td>Sunny</td>\n",
       "      <td>Sunny</td>\n",
       "      <td>Sunny</td>\n",
       "      <td>Cloudy</td>\n",
       "      <td>Cloudy</td>\n",
       "      <td>Rain clouds</td>\n",
       "      <td>Rain</td>\n",
       "      <td>Cloudy</td>\n",
       "      <td>Rain clouds</td>\n",
       "      <td>Clear/Fine</td>\n",
       "      <td>Sunny</td>\n",
       "      <td>Sunny</td>\n",
       "      <td>Sunny</td>\n",
       "    </tr>\n",
       "    <tr>\n",
       "      <th>8:00</th>\n",
       "      <td>Sunny</td>\n",
       "      <td>Sunny</td>\n",
       "      <td>Sunny</td>\n",
       "      <td>Sunny</td>\n",
       "      <td>Sunny</td>\n",
       "      <td>Clear/Fine</td>\n",
       "      <td>Sunny</td>\n",
       "      <td>Cloudy</td>\n",
       "      <td>Sunny</td>\n",
       "      <td>Rain</td>\n",
       "      <td>Cloudy</td>\n",
       "      <td>Cloudy</td>\n",
       "      <td>Rain</td>\n",
       "      <td>Sunny</td>\n",
       "      <td>Sunny</td>\n",
       "      <td>Clear/Fine</td>\n",
       "      <td>Clear/Fine</td>\n",
       "    </tr>\n",
       "    <tr>\n",
       "      <th>9:00</th>\n",
       "      <td>Clear/Fine</td>\n",
       "      <td>Sunny</td>\n",
       "      <td>Clear/Fine</td>\n",
       "      <td>Sunny</td>\n",
       "      <td>Cloudy</td>\n",
       "      <td>Sunny</td>\n",
       "      <td>Cloudy</td>\n",
       "      <td>Cloudy</td>\n",
       "      <td>Cloudy</td>\n",
       "      <td>Rain</td>\n",
       "      <td>Rain</td>\n",
       "      <td>Cloudy</td>\n",
       "      <td>Cloudy</td>\n",
       "      <td>Clear/Fine</td>\n",
       "      <td>Clear/Fine</td>\n",
       "      <td>Sunny</td>\n",
       "      <td>Sunny</td>\n",
       "    </tr>\n",
       "  </tbody>\n",
       "</table>\n",
       "</div>"
      ],
      "text/plain": [
       "          Fine00      Fine01      Fine02      Fine03  Fine04      Fine05  \\\n",
       "5:00  Clear/Fine       Sunny       Sunny       Sunny   Sunny       Sunny   \n",
       "6:00       Sunny  Clear/Fine       Sunny       Sunny   Sunny       Sunny   \n",
       "7:00  Clear/Fine       Sunny  Clear/Fine  Clear/Fine   Sunny       Sunny   \n",
       "8:00       Sunny       Sunny       Sunny       Sunny   Sunny  Clear/Fine   \n",
       "9:00  Clear/Fine       Sunny  Clear/Fine       Sunny  Cloudy       Sunny   \n",
       "\n",
       "      Fine06      Cloud00 Cloud01      Cloud02  CloudFine00 CloudFine01  \\\n",
       "5:00   Sunny       Cloudy  Cloudy       Cloudy  Rain clouds       Sunny   \n",
       "6:00  Cloudy  Rain clouds  Cloudy       Cloudy         Rain        Rain   \n",
       "7:00   Sunny       Cloudy  Cloudy  Rain clouds         Rain      Cloudy   \n",
       "8:00   Sunny       Cloudy   Sunny         Rain       Cloudy      Cloudy   \n",
       "9:00  Cloudy       Cloudy  Cloudy         Rain         Rain      Cloudy   \n",
       "\n",
       "      CloudFine02  FineRain00  FineRain01  FineRain02  FineRain03  \n",
       "5:00   Clear/Fine       Sunny       Sunny  Clear/Fine       Sunny  \n",
       "6:00       Cloudy       Sunny  Clear/Fine  Clear/Fine       Sunny  \n",
       "7:00  Rain clouds  Clear/Fine       Sunny       Sunny       Sunny  \n",
       "8:00         Rain       Sunny       Sunny  Clear/Fine  Clear/Fine  \n",
       "9:00       Cloudy  Clear/Fine  Clear/Fine       Sunny       Sunny  "
      ]
     },
     "execution_count": 69,
     "metadata": {},
     "output_type": "execute_result"
    }
   ],
   "source": [
    "df.head()"
   ]
  },
  {
   "cell_type": "code",
   "execution_count": 78,
   "metadata": {},
   "outputs": [
    {
     "data": {
      "text/html": [
       "<div>\n",
       "<style scoped>\n",
       "    .dataframe tbody tr th:only-of-type {\n",
       "        vertical-align: middle;\n",
       "    }\n",
       "\n",
       "    .dataframe tbody tr th {\n",
       "        vertical-align: top;\n",
       "    }\n",
       "\n",
       "    .dataframe thead th {\n",
       "        text-align: right;\n",
       "    }\n",
       "</style>\n",
       "<table border=\"1\" class=\"dataframe\">\n",
       "  <thead>\n",
       "    <tr style=\"text-align: right;\">\n",
       "      <th></th>\n",
       "      <th>Fine00</th>\n",
       "      <th>Fine01</th>\n",
       "      <th>Fine02</th>\n",
       "      <th>Fine03</th>\n",
       "      <th>Fine04</th>\n",
       "      <th>Fine05</th>\n",
       "      <th>Fine06</th>\n",
       "      <th>Cloud00</th>\n",
       "      <th>Cloud01</th>\n",
       "      <th>Cloud02</th>\n",
       "      <th>CloudFine00</th>\n",
       "      <th>CloudFine01</th>\n",
       "      <th>CloudFine02</th>\n",
       "      <th>FineRain00</th>\n",
       "      <th>FineRain01</th>\n",
       "      <th>FineRain02</th>\n",
       "      <th>FineRain03</th>\n",
       "    </tr>\n",
       "  </thead>\n",
       "  <tbody>\n",
       "    <tr>\n",
       "      <th>5:00</th>\n",
       "      <td>Clear/Fine</td>\n",
       "      <td>Sunny</td>\n",
       "      <td>Sunny</td>\n",
       "      <td>Sunny</td>\n",
       "      <td>Sunny</td>\n",
       "      <td>Sunny</td>\n",
       "      <td>Sunny</td>\n",
       "      <td>Cloudy</td>\n",
       "      <td>Cloudy</td>\n",
       "      <td>Cloudy</td>\n",
       "      <td>Rain clouds</td>\n",
       "      <td>Sunny</td>\n",
       "      <td>Clear/Fine</td>\n",
       "      <td>Sunny</td>\n",
       "      <td>Sunny</td>\n",
       "      <td>Clear/Fine</td>\n",
       "      <td>Sunny</td>\n",
       "    </tr>\n",
       "    <tr>\n",
       "      <th>6:00</th>\n",
       "      <td>Sunny</td>\n",
       "      <td>Clear/Fine</td>\n",
       "      <td>Sunny</td>\n",
       "      <td>Sunny</td>\n",
       "      <td>Sunny</td>\n",
       "      <td>Sunny</td>\n",
       "      <td>Cloudy</td>\n",
       "      <td>Rain clouds</td>\n",
       "      <td>Cloudy</td>\n",
       "      <td>Cloudy</td>\n",
       "      <td>Rain</td>\n",
       "      <td>Rain</td>\n",
       "      <td>Cloudy</td>\n",
       "      <td>Sunny</td>\n",
       "      <td>Clear/Fine</td>\n",
       "      <td>Clear/Fine</td>\n",
       "      <td>Sunny</td>\n",
       "    </tr>\n",
       "  </tbody>\n",
       "</table>\n",
       "</div>"
      ],
      "text/plain": [
       "          Fine00      Fine01 Fine02 Fine03 Fine04 Fine05  Fine06      Cloud00  \\\n",
       "5:00  Clear/Fine       Sunny  Sunny  Sunny  Sunny  Sunny   Sunny       Cloudy   \n",
       "6:00       Sunny  Clear/Fine  Sunny  Sunny  Sunny  Sunny  Cloudy  Rain clouds   \n",
       "\n",
       "     Cloud01 Cloud02  CloudFine00 CloudFine01 CloudFine02 FineRain00  \\\n",
       "5:00  Cloudy  Cloudy  Rain clouds       Sunny  Clear/Fine      Sunny   \n",
       "6:00  Cloudy  Cloudy         Rain        Rain      Cloudy      Sunny   \n",
       "\n",
       "      FineRain01  FineRain02 FineRain03  \n",
       "5:00       Sunny  Clear/Fine      Sunny  \n",
       "6:00  Clear/Fine  Clear/Fine      Sunny  "
      ]
     },
     "execution_count": 78,
     "metadata": {},
     "output_type": "execute_result"
    }
   ],
   "source": [
    "df.loc[['5:00', '6:00']]"
   ]
  },
  {
   "cell_type": "code",
   "execution_count": 101,
   "metadata": {},
   "outputs": [],
   "source": [
    "from itertools import combinations, combinations_with_replacement"
   ]
  },
  {
   "cell_type": "markdown",
   "metadata": {},
   "source": [
    "There are 21 possible two-hour weather combinations. (It can be sunny two hours in a row, etc.)"
   ]
  },
  {
   "cell_type": "code",
   "execution_count": 102,
   "metadata": {},
   "outputs": [
    {
     "data": {
      "text/plain": [
       "21"
      ]
     },
     "execution_count": 102,
     "metadata": {},
     "output_type": "execute_result"
    }
   ],
   "source": [
    "len(list(combinations_with_replacement(w, 2)))"
   ]
  },
  {
   "cell_type": "markdown",
   "metadata": {},
   "source": [
    "This gives all possible two-hour hour combinations:"
   ]
  },
  {
   "cell_type": "code",
   "execution_count": 90,
   "metadata": {},
   "outputs": [],
   "source": [
    "two_times = list(combinations(df.index, 2))[0]"
   ]
  },
  {
   "cell_type": "code",
   "execution_count": 95,
   "metadata": {},
   "outputs": [
    {
     "data": {
      "text/html": [
       "<div>\n",
       "<style scoped>\n",
       "    .dataframe tbody tr th:only-of-type {\n",
       "        vertical-align: middle;\n",
       "    }\n",
       "\n",
       "    .dataframe tbody tr th {\n",
       "        vertical-align: top;\n",
       "    }\n",
       "\n",
       "    .dataframe thead th {\n",
       "        text-align: right;\n",
       "    }\n",
       "</style>\n",
       "<table border=\"1\" class=\"dataframe\">\n",
       "  <thead>\n",
       "    <tr style=\"text-align: right;\">\n",
       "      <th></th>\n",
       "      <th>Fine00</th>\n",
       "      <th>Fine01</th>\n",
       "      <th>Fine02</th>\n",
       "      <th>Fine03</th>\n",
       "      <th>Fine04</th>\n",
       "      <th>Fine05</th>\n",
       "      <th>Fine06</th>\n",
       "      <th>Cloud00</th>\n",
       "      <th>Cloud01</th>\n",
       "      <th>Cloud02</th>\n",
       "      <th>CloudFine00</th>\n",
       "      <th>CloudFine01</th>\n",
       "      <th>CloudFine02</th>\n",
       "      <th>FineRain00</th>\n",
       "      <th>FineRain01</th>\n",
       "      <th>FineRain02</th>\n",
       "      <th>FineRain03</th>\n",
       "    </tr>\n",
       "  </thead>\n",
       "  <tbody>\n",
       "    <tr>\n",
       "      <th>5:00</th>\n",
       "      <td>Clear/Fine</td>\n",
       "      <td>Sunny</td>\n",
       "      <td>Sunny</td>\n",
       "      <td>Sunny</td>\n",
       "      <td>Sunny</td>\n",
       "      <td>Sunny</td>\n",
       "      <td>Sunny</td>\n",
       "      <td>Cloudy</td>\n",
       "      <td>Cloudy</td>\n",
       "      <td>Cloudy</td>\n",
       "      <td>Rain clouds</td>\n",
       "      <td>Sunny</td>\n",
       "      <td>Clear/Fine</td>\n",
       "      <td>Sunny</td>\n",
       "      <td>Sunny</td>\n",
       "      <td>Clear/Fine</td>\n",
       "      <td>Sunny</td>\n",
       "    </tr>\n",
       "    <tr>\n",
       "      <th>6:00</th>\n",
       "      <td>Sunny</td>\n",
       "      <td>Clear/Fine</td>\n",
       "      <td>Sunny</td>\n",
       "      <td>Sunny</td>\n",
       "      <td>Sunny</td>\n",
       "      <td>Sunny</td>\n",
       "      <td>Cloudy</td>\n",
       "      <td>Rain clouds</td>\n",
       "      <td>Cloudy</td>\n",
       "      <td>Cloudy</td>\n",
       "      <td>Rain</td>\n",
       "      <td>Rain</td>\n",
       "      <td>Cloudy</td>\n",
       "      <td>Sunny</td>\n",
       "      <td>Clear/Fine</td>\n",
       "      <td>Clear/Fine</td>\n",
       "      <td>Sunny</td>\n",
       "    </tr>\n",
       "  </tbody>\n",
       "</table>\n",
       "</div>"
      ],
      "text/plain": [
       "          Fine00      Fine01 Fine02 Fine03 Fine04 Fine05  Fine06      Cloud00  \\\n",
       "5:00  Clear/Fine       Sunny  Sunny  Sunny  Sunny  Sunny   Sunny       Cloudy   \n",
       "6:00       Sunny  Clear/Fine  Sunny  Sunny  Sunny  Sunny  Cloudy  Rain clouds   \n",
       "\n",
       "     Cloud01 Cloud02  CloudFine00 CloudFine01 CloudFine02 FineRain00  \\\n",
       "5:00  Cloudy  Cloudy  Rain clouds       Sunny  Clear/Fine      Sunny   \n",
       "6:00  Cloudy  Cloudy         Rain        Rain      Cloudy      Sunny   \n",
       "\n",
       "      FineRain01  FineRain02 FineRain03  \n",
       "5:00       Sunny  Clear/Fine      Sunny  \n",
       "6:00  Clear/Fine  Clear/Fine      Sunny  "
      ]
     },
     "execution_count": 95,
     "metadata": {},
     "output_type": "execute_result"
    }
   ],
   "source": [
    "df.loc[list(two_times)]"
   ]
  },
  {
   "cell_type": "markdown",
   "metadata": {},
   "source": [
    "I need to get these into tuple pairs and then evaluate if `len(tup) == 17` I think.\n",
    "\n",
    "Then to pass into `loc` I do need to first cast to a list."
   ]
  },
  {
   "cell_type": "code",
   "execution_count": 124,
   "metadata": {},
   "outputs": [
    {
     "data": {
      "text/plain": [
       "[('Clear/Fine', 'Sunny'),\n",
       " ('Sunny', 'Clear/Fine'),\n",
       " ('Sunny', 'Sunny'),\n",
       " ('Sunny', 'Sunny'),\n",
       " ('Sunny', 'Sunny')]"
      ]
     },
     "execution_count": 124,
     "metadata": {},
     "output_type": "execute_result"
    }
   ],
   "source": [
    "# well well well\n",
    "list(df.loc[list(two_times)].T.itertuples(name=None, index=False))[:5]"
   ]
  },
  {
   "cell_type": "code",
   "execution_count": 126,
   "metadata": {},
   "outputs": [
    {
     "data": {
      "text/plain": [
       "10"
      ]
     },
     "execution_count": 126,
     "metadata": {},
     "output_type": "execute_result"
    }
   ],
   "source": [
    "len(set(list(df.loc[list(two_times)].T.itertuples(name=None, index=False))))"
   ]
  },
  {
   "cell_type": "code",
   "execution_count": 122,
   "metadata": {},
   "outputs": [],
   "source": [
    "def evaluate_if_unique(dataframe, times):\n",
    "    '''\n",
    "    This function accepts a dataframe and a tuple of times.\n",
    "    \n",
    "    It checks if the selected times have 17 unique weather combos.\n",
    "    '''\n",
    "    \n",
    "    times = list(times)\n",
    "    subset = dataframe.loc[times]\n",
    "    n_weather_combos = len(list(subset.T.itertuples(name=None, index=False)))\n",
    "    \n",
    "    return n_weather_combos != 17"
   ]
  },
  {
   "cell_type": "markdown",
   "metadata": {},
   "source": [
    "Hmm. It would be too easy I guess."
   ]
  },
  {
   "cell_type": "code",
   "execution_count": 131,
   "metadata": {},
   "outputs": [],
   "source": [
    "for times in combinations(df.index, 2):\n",
    "    if evaluate_if_unique(df, times):\n",
    "        print(times)"
   ]
  },
  {
   "cell_type": "markdown",
   "metadata": {},
   "source": []
  },
  {
   "cell_type": "code",
   "execution_count": 132,
   "metadata": {},
   "outputs": [],
   "source": [
    "all_times_2 = list(combinations(df.index, 2))"
   ]
  },
  {
   "cell_type": "code",
   "execution_count": 133,
   "metadata": {},
   "outputs": [
    {
     "data": {
      "text/plain": [
       "('5:00', '6:00')"
      ]
     },
     "execution_count": 133,
     "metadata": {},
     "output_type": "execute_result"
    }
   ],
   "source": [
    "all_times_2[0]"
   ]
  },
  {
   "cell_type": "code",
   "execution_count": 134,
   "metadata": {},
   "outputs": [],
   "source": [
    "def df_from_times(dataframe, times):\n",
    "    times = list(times)\n",
    "    return df.loc[times]"
   ]
  },
  {
   "cell_type": "code",
   "execution_count": 136,
   "metadata": {},
   "outputs": [
    {
     "data": {
      "text/html": [
       "<div>\n",
       "<style scoped>\n",
       "    .dataframe tbody tr th:only-of-type {\n",
       "        vertical-align: middle;\n",
       "    }\n",
       "\n",
       "    .dataframe tbody tr th {\n",
       "        vertical-align: top;\n",
       "    }\n",
       "\n",
       "    .dataframe thead th {\n",
       "        text-align: right;\n",
       "    }\n",
       "</style>\n",
       "<table border=\"1\" class=\"dataframe\">\n",
       "  <thead>\n",
       "    <tr style=\"text-align: right;\">\n",
       "      <th></th>\n",
       "      <th>Fine00</th>\n",
       "      <th>Fine01</th>\n",
       "      <th>Fine02</th>\n",
       "      <th>Fine03</th>\n",
       "      <th>Fine04</th>\n",
       "      <th>Fine05</th>\n",
       "      <th>Fine06</th>\n",
       "      <th>Cloud00</th>\n",
       "      <th>Cloud01</th>\n",
       "      <th>Cloud02</th>\n",
       "      <th>CloudFine00</th>\n",
       "      <th>CloudFine01</th>\n",
       "      <th>CloudFine02</th>\n",
       "      <th>FineRain00</th>\n",
       "      <th>FineRain01</th>\n",
       "      <th>FineRain02</th>\n",
       "      <th>FineRain03</th>\n",
       "    </tr>\n",
       "  </thead>\n",
       "  <tbody>\n",
       "    <tr>\n",
       "      <th>5:00</th>\n",
       "      <td>Clear/Fine</td>\n",
       "      <td>Sunny</td>\n",
       "      <td>Sunny</td>\n",
       "      <td>Sunny</td>\n",
       "      <td>Sunny</td>\n",
       "      <td>Sunny</td>\n",
       "      <td>Sunny</td>\n",
       "      <td>Cloudy</td>\n",
       "      <td>Cloudy</td>\n",
       "      <td>Cloudy</td>\n",
       "      <td>Rain clouds</td>\n",
       "      <td>Sunny</td>\n",
       "      <td>Clear/Fine</td>\n",
       "      <td>Sunny</td>\n",
       "      <td>Sunny</td>\n",
       "      <td>Clear/Fine</td>\n",
       "      <td>Sunny</td>\n",
       "    </tr>\n",
       "    <tr>\n",
       "      <th>6:00</th>\n",
       "      <td>Sunny</td>\n",
       "      <td>Clear/Fine</td>\n",
       "      <td>Sunny</td>\n",
       "      <td>Sunny</td>\n",
       "      <td>Sunny</td>\n",
       "      <td>Sunny</td>\n",
       "      <td>Cloudy</td>\n",
       "      <td>Rain clouds</td>\n",
       "      <td>Cloudy</td>\n",
       "      <td>Cloudy</td>\n",
       "      <td>Rain</td>\n",
       "      <td>Rain</td>\n",
       "      <td>Cloudy</td>\n",
       "      <td>Sunny</td>\n",
       "      <td>Clear/Fine</td>\n",
       "      <td>Clear/Fine</td>\n",
       "      <td>Sunny</td>\n",
       "    </tr>\n",
       "  </tbody>\n",
       "</table>\n",
       "</div>"
      ],
      "text/plain": [
       "          Fine00      Fine01 Fine02 Fine03 Fine04 Fine05  Fine06      Cloud00  \\\n",
       "5:00  Clear/Fine       Sunny  Sunny  Sunny  Sunny  Sunny   Sunny       Cloudy   \n",
       "6:00       Sunny  Clear/Fine  Sunny  Sunny  Sunny  Sunny  Cloudy  Rain clouds   \n",
       "\n",
       "     Cloud01 Cloud02  CloudFine00 CloudFine01 CloudFine02 FineRain00  \\\n",
       "5:00  Cloudy  Cloudy  Rain clouds       Sunny  Clear/Fine      Sunny   \n",
       "6:00  Cloudy  Cloudy         Rain        Rain      Cloudy      Sunny   \n",
       "\n",
       "      FineRain01  FineRain02 FineRain03  \n",
       "5:00       Sunny  Clear/Fine      Sunny  \n",
       "6:00  Clear/Fine  Clear/Fine      Sunny  "
      ]
     },
     "execution_count": 136,
     "metadata": {},
     "output_type": "execute_result"
    }
   ],
   "source": [
    "df_from_times(df, all_times_2[0])"
   ]
  },
  {
   "cell_type": "markdown",
   "metadata": {},
   "source": [
    "...I have tuples, so...I can make a dictionary!"
   ]
  },
  {
   "cell_type": "code",
   "execution_count": 147,
   "metadata": {},
   "outputs": [],
   "source": [
    "from collections import Counter, defaultdict"
   ]
  },
  {
   "cell_type": "code",
   "execution_count": 152,
   "metadata": {},
   "outputs": [],
   "source": [
    "# d = defaultdict(list)"
   ]
  },
  {
   "cell_type": "code",
   "execution_count": 140,
   "metadata": {},
   "outputs": [
    {
     "data": {
      "text/html": [
       "<div>\n",
       "<style scoped>\n",
       "    .dataframe tbody tr th:only-of-type {\n",
       "        vertical-align: middle;\n",
       "    }\n",
       "\n",
       "    .dataframe tbody tr th {\n",
       "        vertical-align: top;\n",
       "    }\n",
       "\n",
       "    .dataframe thead th {\n",
       "        text-align: right;\n",
       "    }\n",
       "</style>\n",
       "<table border=\"1\" class=\"dataframe\">\n",
       "  <thead>\n",
       "    <tr style=\"text-align: right;\">\n",
       "      <th></th>\n",
       "      <th>Fine00</th>\n",
       "      <th>Fine01</th>\n",
       "      <th>Fine02</th>\n",
       "      <th>Fine03</th>\n",
       "      <th>Fine04</th>\n",
       "      <th>Fine05</th>\n",
       "      <th>Fine06</th>\n",
       "      <th>Cloud00</th>\n",
       "      <th>Cloud01</th>\n",
       "      <th>Cloud02</th>\n",
       "      <th>CloudFine00</th>\n",
       "      <th>CloudFine01</th>\n",
       "      <th>CloudFine02</th>\n",
       "      <th>FineRain00</th>\n",
       "      <th>FineRain01</th>\n",
       "      <th>FineRain02</th>\n",
       "      <th>FineRain03</th>\n",
       "    </tr>\n",
       "  </thead>\n",
       "  <tbody>\n",
       "    <tr>\n",
       "      <th>5:00</th>\n",
       "      <td>Clear/Fine</td>\n",
       "      <td>Sunny</td>\n",
       "      <td>Sunny</td>\n",
       "      <td>Sunny</td>\n",
       "      <td>Sunny</td>\n",
       "      <td>Sunny</td>\n",
       "      <td>Sunny</td>\n",
       "      <td>Cloudy</td>\n",
       "      <td>Cloudy</td>\n",
       "      <td>Cloudy</td>\n",
       "      <td>Rain clouds</td>\n",
       "      <td>Sunny</td>\n",
       "      <td>Clear/Fine</td>\n",
       "      <td>Sunny</td>\n",
       "      <td>Sunny</td>\n",
       "      <td>Clear/Fine</td>\n",
       "      <td>Sunny</td>\n",
       "    </tr>\n",
       "    <tr>\n",
       "      <th>6:00</th>\n",
       "      <td>Sunny</td>\n",
       "      <td>Clear/Fine</td>\n",
       "      <td>Sunny</td>\n",
       "      <td>Sunny</td>\n",
       "      <td>Sunny</td>\n",
       "      <td>Sunny</td>\n",
       "      <td>Cloudy</td>\n",
       "      <td>Rain clouds</td>\n",
       "      <td>Cloudy</td>\n",
       "      <td>Cloudy</td>\n",
       "      <td>Rain</td>\n",
       "      <td>Rain</td>\n",
       "      <td>Cloudy</td>\n",
       "      <td>Sunny</td>\n",
       "      <td>Clear/Fine</td>\n",
       "      <td>Clear/Fine</td>\n",
       "      <td>Sunny</td>\n",
       "    </tr>\n",
       "  </tbody>\n",
       "</table>\n",
       "</div>"
      ],
      "text/plain": [
       "          Fine00      Fine01 Fine02 Fine03 Fine04 Fine05  Fine06      Cloud00  \\\n",
       "5:00  Clear/Fine       Sunny  Sunny  Sunny  Sunny  Sunny   Sunny       Cloudy   \n",
       "6:00       Sunny  Clear/Fine  Sunny  Sunny  Sunny  Sunny  Cloudy  Rain clouds   \n",
       "\n",
       "     Cloud01 Cloud02  CloudFine00 CloudFine01 CloudFine02 FineRain00  \\\n",
       "5:00  Cloudy  Cloudy  Rain clouds       Sunny  Clear/Fine      Sunny   \n",
       "6:00  Cloudy  Cloudy         Rain        Rain      Cloudy      Sunny   \n",
       "\n",
       "      FineRain01  FineRain02 FineRain03  \n",
       "5:00       Sunny  Clear/Fine      Sunny  \n",
       "6:00  Clear/Fine  Clear/Fine      Sunny  "
      ]
     },
     "execution_count": 140,
     "metadata": {},
     "output_type": "execute_result"
    }
   ],
   "source": [
    "df_from_times(df, all_times_2[0])"
   ]
  },
  {
   "cell_type": "code",
   "execution_count": 144,
   "metadata": {},
   "outputs": [
    {
     "data": {
      "text/plain": [
       "{('Clear/Fine', 'Clear/Fine'),\n",
       " ('Clear/Fine', 'Cloudy'),\n",
       " ('Clear/Fine', 'Sunny'),\n",
       " ('Cloudy', 'Cloudy'),\n",
       " ('Cloudy', 'Rain clouds'),\n",
       " ('Rain clouds', 'Rain'),\n",
       " ('Sunny', 'Clear/Fine'),\n",
       " ('Sunny', 'Cloudy'),\n",
       " ('Sunny', 'Rain'),\n",
       " ('Sunny', 'Sunny')}"
      ]
     },
     "execution_count": 144,
     "metadata": {},
     "output_type": "execute_result"
    }
   ],
   "source": [
    "set(list(df_from_times(df, all_times_2[0]).T.itertuples(name=None, index=False)))"
   ]
  },
  {
   "cell_type": "code",
   "execution_count": 146,
   "metadata": {},
   "outputs": [
    {
     "data": {
      "text/html": [
       "<div>\n",
       "<style scoped>\n",
       "    .dataframe tbody tr th:only-of-type {\n",
       "        vertical-align: middle;\n",
       "    }\n",
       "\n",
       "    .dataframe tbody tr th {\n",
       "        vertical-align: top;\n",
       "    }\n",
       "\n",
       "    .dataframe thead th {\n",
       "        text-align: right;\n",
       "    }\n",
       "</style>\n",
       "<table border=\"1\" class=\"dataframe\">\n",
       "  <thead>\n",
       "    <tr style=\"text-align: right;\">\n",
       "      <th></th>\n",
       "      <th>Fine00</th>\n",
       "      <th>Fine01</th>\n",
       "      <th>Fine02</th>\n",
       "      <th>Fine03</th>\n",
       "      <th>Fine04</th>\n",
       "      <th>Fine05</th>\n",
       "      <th>Fine06</th>\n",
       "      <th>Cloud00</th>\n",
       "      <th>Cloud01</th>\n",
       "      <th>Cloud02</th>\n",
       "      <th>CloudFine00</th>\n",
       "      <th>CloudFine01</th>\n",
       "      <th>CloudFine02</th>\n",
       "      <th>FineRain00</th>\n",
       "      <th>FineRain01</th>\n",
       "      <th>FineRain02</th>\n",
       "      <th>FineRain03</th>\n",
       "    </tr>\n",
       "  </thead>\n",
       "  <tbody>\n",
       "    <tr>\n",
       "      <th>5:00</th>\n",
       "      <td>Clear/Fine</td>\n",
       "      <td>Sunny</td>\n",
       "      <td>Sunny</td>\n",
       "      <td>Sunny</td>\n",
       "      <td>Sunny</td>\n",
       "      <td>Sunny</td>\n",
       "      <td>Sunny</td>\n",
       "      <td>Cloudy</td>\n",
       "      <td>Cloudy</td>\n",
       "      <td>Cloudy</td>\n",
       "      <td>Rain clouds</td>\n",
       "      <td>Sunny</td>\n",
       "      <td>Clear/Fine</td>\n",
       "      <td>Sunny</td>\n",
       "      <td>Sunny</td>\n",
       "      <td>Clear/Fine</td>\n",
       "      <td>Sunny</td>\n",
       "    </tr>\n",
       "    <tr>\n",
       "      <th>6:00</th>\n",
       "      <td>Sunny</td>\n",
       "      <td>Clear/Fine</td>\n",
       "      <td>Sunny</td>\n",
       "      <td>Sunny</td>\n",
       "      <td>Sunny</td>\n",
       "      <td>Sunny</td>\n",
       "      <td>Cloudy</td>\n",
       "      <td>Rain clouds</td>\n",
       "      <td>Cloudy</td>\n",
       "      <td>Cloudy</td>\n",
       "      <td>Rain</td>\n",
       "      <td>Rain</td>\n",
       "      <td>Cloudy</td>\n",
       "      <td>Sunny</td>\n",
       "      <td>Clear/Fine</td>\n",
       "      <td>Clear/Fine</td>\n",
       "      <td>Sunny</td>\n",
       "    </tr>\n",
       "  </tbody>\n",
       "</table>\n",
       "</div>"
      ],
      "text/plain": [
       "          Fine00      Fine01 Fine02 Fine03 Fine04 Fine05  Fine06      Cloud00  \\\n",
       "5:00  Clear/Fine       Sunny  Sunny  Sunny  Sunny  Sunny   Sunny       Cloudy   \n",
       "6:00       Sunny  Clear/Fine  Sunny  Sunny  Sunny  Sunny  Cloudy  Rain clouds   \n",
       "\n",
       "     Cloud01 Cloud02  CloudFine00 CloudFine01 CloudFine02 FineRain00  \\\n",
       "5:00  Cloudy  Cloudy  Rain clouds       Sunny  Clear/Fine      Sunny   \n",
       "6:00  Cloudy  Cloudy         Rain        Rain      Cloudy      Sunny   \n",
       "\n",
       "      FineRain01  FineRain02 FineRain03  \n",
       "5:00       Sunny  Clear/Fine      Sunny  \n",
       "6:00  Clear/Fine  Clear/Fine      Sunny  "
      ]
     },
     "execution_count": 146,
     "metadata": {},
     "output_type": "execute_result"
    }
   ],
   "source": [
    "df_from_times(df, all_times_2[0])"
   ]
  },
  {
   "cell_type": "markdown",
   "metadata": {},
   "source": [
    "I want to know _what combinations occur at what hours, and how often_.\n",
    "\n",
    "I can...actually probably use a counter for this :thinking:"
   ]
  },
  {
   "cell_type": "code",
   "execution_count": 148,
   "metadata": {},
   "outputs": [],
   "source": [
    "c = Counter(list(df_from_times(df, all_times_2[0]).T.itertuples(name=None, index=False)))"
   ]
  },
  {
   "cell_type": "code",
   "execution_count": 153,
   "metadata": {},
   "outputs": [],
   "source": [
    "d = {}\n",
    "\n",
    "for times in combinations(df.index, 2):\n",
    "    d[times] = Counter(list(df_from_times(df, times).T.itertuples(name=None, index=False)))"
   ]
  },
  {
   "cell_type": "code",
   "execution_count": 184,
   "metadata": {},
   "outputs": [
    {
     "data": {
      "text/html": [
       "<div>\n",
       "<style scoped>\n",
       "    .dataframe tbody tr th:only-of-type {\n",
       "        vertical-align: middle;\n",
       "    }\n",
       "\n",
       "    .dataframe tbody tr th {\n",
       "        vertical-align: top;\n",
       "    }\n",
       "\n",
       "    .dataframe thead th {\n",
       "        text-align: right;\n",
       "    }\n",
       "</style>\n",
       "<table border=\"1\" class=\"dataframe\">\n",
       "  <thead>\n",
       "    <tr style=\"text-align: right;\">\n",
       "      <th></th>\n",
       "      <th>0</th>\n",
       "    </tr>\n",
       "  </thead>\n",
       "  <tbody>\n",
       "    <tr>\n",
       "      <th>('6:00', '14:00')</th>\n",
       "      <td>12</td>\n",
       "    </tr>\n",
       "    <tr>\n",
       "      <th>('12:00', '15:00')</th>\n",
       "      <td>12</td>\n",
       "    </tr>\n",
       "    <tr>\n",
       "      <th>('6:00', '13:00')</th>\n",
       "      <td>12</td>\n",
       "    </tr>\n",
       "    <tr>\n",
       "      <th>('9:00', '12:00')</th>\n",
       "      <td>12</td>\n",
       "    </tr>\n",
       "    <tr>\n",
       "      <th>('10:00', '12:00')</th>\n",
       "      <td>12</td>\n",
       "    </tr>\n",
       "    <tr>\n",
       "      <th>('7:00', '13:00')</th>\n",
       "      <td>12</td>\n",
       "    </tr>\n",
       "    <tr>\n",
       "      <th>('6:00', '15:00')</th>\n",
       "      <td>13</td>\n",
       "    </tr>\n",
       "  </tbody>\n",
       "</table>\n",
       "</div>"
      ],
      "text/plain": [
       "                     0\n",
       "('6:00', '14:00')   12\n",
       "('12:00', '15:00')  12\n",
       "('6:00', '13:00')   12\n",
       "('9:00', '12:00')   12\n",
       "('10:00', '12:00')  12\n",
       "('7:00', '13:00')   12\n",
       "('6:00', '15:00')   13"
      ]
     },
     "execution_count": 184,
     "metadata": {},
     "output_type": "execute_result"
    }
   ],
   "source": [
    "pd.DataFrame({str(k): [len(v)] for k, v in d.items()}).T.sort_values(by=0).tail(7)"
   ]
  },
  {
   "cell_type": "code",
   "execution_count": 186,
   "metadata": {},
   "outputs": [],
   "source": [
    "times_to_check = pd.DataFrame({str(k): [len(v)] for k, v in d.items()}).T.sort_values(by=0).tail(7).index"
   ]
  },
  {
   "cell_type": "code",
   "execution_count": 187,
   "metadata": {},
   "outputs": [
    {
     "data": {
      "text/plain": [
       "Index(['('6:00', '14:00')', '('12:00', '15:00')', '('6:00', '13:00')',\n",
       "       '('9:00', '12:00')', '('10:00', '12:00')', '('7:00', '13:00')',\n",
       "       '('6:00', '15:00')'],\n",
       "      dtype='object')"
      ]
     },
     "execution_count": 187,
     "metadata": {},
     "output_type": "execute_result"
    }
   ],
   "source": [
    "times_to_check"
   ]
  },
  {
   "cell_type": "code",
   "execution_count": 199,
   "metadata": {},
   "outputs": [
    {
     "data": {
      "text/plain": [
       "Counter({('Clear/Fine', 'Clear/Fine'): 1,\n",
       "         ('Clear/Fine', 'Cloudy'): 1,\n",
       "         ('Clear/Fine', 'Rain'): 1,\n",
       "         ('Clear/Fine', 'Sunny'): 1,\n",
       "         ('Cloudy', 'Cloudy'): 1,\n",
       "         ('Cloudy', 'Sunny'): 2,\n",
       "         ('Rain', 'Cloudy'): 1,\n",
       "         ('Rain clouds', 'Rain clouds'): 1,\n",
       "         ('Rain clouds', 'Sunny'): 1,\n",
       "         ('Sunny', 'Clear/Fine'): 1,\n",
       "         ('Sunny', 'Cloudy'): 1,\n",
       "         ('Sunny', 'Sunny'): 5})"
      ]
     },
     "execution_count": 199,
     "metadata": {},
     "output_type": "execute_result"
    }
   ],
   "source": [
    "d[('7:00', '13:00')]"
   ]
  },
  {
   "cell_type": "code",
   "execution_count": 200,
   "metadata": {},
   "outputs": [
    {
     "data": {
      "text/plain": [
       "Counter({('Clear/Fine', 'Clear/Fine'): 1,\n",
       "         ('Clear/Fine', 'Heavy rain'): 1,\n",
       "         ('Clear/Fine', 'Sunny'): 1,\n",
       "         ('Cloudy', 'Clear/Fine'): 1,\n",
       "         ('Cloudy', 'Cloudy'): 1,\n",
       "         ('Cloudy', 'Rain'): 1,\n",
       "         ('Cloudy', 'Sunny'): 1,\n",
       "         ('Rain', 'Cloudy'): 1,\n",
       "         ('Rain', 'Sunny'): 1,\n",
       "         ('Rain clouds', 'Sunny'): 1,\n",
       "         ('Sunny', 'Clear/Fine'): 1,\n",
       "         ('Sunny', 'Rain'): 1,\n",
       "         ('Sunny', 'Sunny'): 5})"
      ]
     },
     "execution_count": 200,
     "metadata": {},
     "output_type": "execute_result"
    }
   ],
   "source": [
    "d[('6:00', '15:00')]"
   ]
  },
  {
   "cell_type": "markdown",
   "metadata": {},
   "source": [
    "## OK -- my two candidate pairs are...\n",
    "- `('6:00', '15:00')`\n",
    "- `('7:00', '13:00')`\n",
    "\n",
    "They each have 12 unique combinations, and sunny/sunny shows up 5 times.\n",
    "\n",
    "### The next question\n",
    "\n",
    "For sunny/sunny days on my candidate pair time pairs, **what is the third time I should check** to uniquely identify the weather pattern?\n",
    "\n",
    "This will be different for each."
   ]
  },
  {
   "cell_type": "markdown",
   "metadata": {},
   "source": [
    "### Testing 6 & 15"
   ]
  },
  {
   "cell_type": "code",
   "execution_count": 246,
   "metadata": {},
   "outputs": [],
   "source": [
    "# I want just the column names where both rows are sunny\n",
    "pair_6_15 = df_from_times(df, ('6:00', '15:00'))\n",
    "\n",
    "sunny_6 = pair_6_15.T['6:00'] == 'Sunny'\n",
    "sunny_15 = pair_6_15.T['15:00'] == 'Sunny'\n",
    "\n",
    "# pair_6_15.T[sunny_6 & sunny_15]\n",
    "day_types_6_15 = pair_6_15.T[sunny_6 & sunny_15].index\n",
    "\n",
    "df_6_15 = df[day_types_6_15].copy()\n",
    "df_6_15.drop(['6:00', '15:00'], inplace=True)"
   ]
  },
  {
   "cell_type": "code",
   "execution_count": 252,
   "metadata": {},
   "outputs": [
    {
     "data": {
      "text/plain": [
       "('5:00', Fine00        Clear/Fine\n",
       " Fine02             Sunny\n",
       " Fine04             Sunny\n",
       " Fine05             Sunny\n",
       " FineRain00         Sunny\n",
       " Name: 5:00, dtype: object)"
      ]
     },
     "execution_count": 252,
     "metadata": {},
     "output_type": "execute_result"
    }
   ],
   "source": [
    "list(df_6_15.iterrows())[0]"
   ]
  },
  {
   "cell_type": "code",
   "execution_count": 257,
   "metadata": {},
   "outputs": [
    {
     "data": {
      "text/plain": [
       "2"
      ]
     },
     "execution_count": 257,
     "metadata": {},
     "output_type": "execute_result"
    }
   ],
   "source": [
    "len(set(df_6_15.iloc[0].values))"
   ]
  },
  {
   "cell_type": "code",
   "execution_count": 275,
   "metadata": {},
   "outputs": [],
   "source": [
    "dates_6_15 = []\n",
    "\n",
    "for ix in range(22):\n",
    "    if len(set(df_6_15.iloc[ix].values)) > 2:\n",
    "        dates_6_15.append(ix)"
   ]
  },
  {
   "cell_type": "code",
   "execution_count": 276,
   "metadata": {},
   "outputs": [
    {
     "data": {
      "text/html": [
       "<div>\n",
       "<style scoped>\n",
       "    .dataframe tbody tr th:only-of-type {\n",
       "        vertical-align: middle;\n",
       "    }\n",
       "\n",
       "    .dataframe tbody tr th {\n",
       "        vertical-align: top;\n",
       "    }\n",
       "\n",
       "    .dataframe thead th {\n",
       "        text-align: right;\n",
       "    }\n",
       "</style>\n",
       "<table border=\"1\" class=\"dataframe\">\n",
       "  <thead>\n",
       "    <tr style=\"text-align: right;\">\n",
       "      <th></th>\n",
       "      <th>Fine00</th>\n",
       "      <th>Fine02</th>\n",
       "      <th>Fine04</th>\n",
       "      <th>Fine05</th>\n",
       "      <th>FineRain00</th>\n",
       "    </tr>\n",
       "  </thead>\n",
       "  <tbody>\n",
       "    <tr>\n",
       "      <th>9:00</th>\n",
       "      <td>Clear/Fine</td>\n",
       "      <td>Clear/Fine</td>\n",
       "      <td>Cloudy</td>\n",
       "      <td>Sunny</td>\n",
       "      <td>Clear/Fine</td>\n",
       "    </tr>\n",
       "    <tr>\n",
       "      <th>13:00</th>\n",
       "      <td>Sunny</td>\n",
       "      <td>Clear/Fine</td>\n",
       "      <td>Sunny</td>\n",
       "      <td>Sunny</td>\n",
       "      <td>Rain</td>\n",
       "    </tr>\n",
       "    <tr>\n",
       "      <th>14:00</th>\n",
       "      <td>Clear/Fine</td>\n",
       "      <td>Sunny</td>\n",
       "      <td>Cloudy</td>\n",
       "      <td>Cloudy</td>\n",
       "      <td>Sunny</td>\n",
       "    </tr>\n",
       "    <tr>\n",
       "      <th>18:00</th>\n",
       "      <td>Sunny</td>\n",
       "      <td>Cloudy</td>\n",
       "      <td>Clear/Fine</td>\n",
       "      <td>Sunny</td>\n",
       "      <td>Sunny</td>\n",
       "    </tr>\n",
       "    <tr>\n",
       "      <th>19:00</th>\n",
       "      <td>Clear/Fine</td>\n",
       "      <td>Sunny</td>\n",
       "      <td>Sunny</td>\n",
       "      <td>Cloudy</td>\n",
       "      <td>Clear/Fine</td>\n",
       "    </tr>\n",
       "  </tbody>\n",
       "</table>\n",
       "</div>"
      ],
      "text/plain": [
       "           Fine00      Fine02      Fine04  Fine05  FineRain00\n",
       "9:00   Clear/Fine  Clear/Fine      Cloudy   Sunny  Clear/Fine\n",
       "13:00       Sunny  Clear/Fine       Sunny   Sunny        Rain\n",
       "14:00  Clear/Fine       Sunny      Cloudy  Cloudy       Sunny\n",
       "18:00       Sunny      Cloudy  Clear/Fine   Sunny       Sunny\n",
       "19:00  Clear/Fine       Sunny       Sunny  Cloudy  Clear/Fine"
      ]
     },
     "execution_count": 276,
     "metadata": {},
     "output_type": "execute_result"
    }
   ],
   "source": [
    "df_6_15.iloc[dates_6_15]"
   ]
  },
  {
   "cell_type": "code",
   "execution_count": null,
   "metadata": {},
   "outputs": [],
   "source": []
  },
  {
   "cell_type": "markdown",
   "metadata": {},
   "source": [
    "### Testing 7 & 13"
   ]
  },
  {
   "cell_type": "code",
   "execution_count": 267,
   "metadata": {},
   "outputs": [],
   "source": [
    "# df_from_times(df, ('7:00', '13:00'))\n",
    "\n",
    "pair_7_13 = df_from_times(df, ('7:00', '13:00'))\n",
    "\n",
    "sunny_7 = pair_7_13.T['7:00'] == 'Sunny'\n",
    "sunny_13 = pair_7_13.T['13:00'] == 'Sunny'\n",
    "\n",
    "# pair_7_13.T[sunny_7 & sunny_13]\n",
    "\n",
    "day_types_7_13 = pair_7_13.T[sunny_7 & sunny_13].index\n",
    "\n",
    "df_7_13 = df[day_types_7_13].copy()\n",
    "df_7_13.drop(['7:00', '13:00'], inplace=True)"
   ]
  },
  {
   "cell_type": "code",
   "execution_count": 268,
   "metadata": {},
   "outputs": [
    {
     "data": {
      "text/plain": [
       "(22, 5)"
      ]
     },
     "execution_count": 268,
     "metadata": {},
     "output_type": "execute_result"
    }
   ],
   "source": [
    "df_7_13.shape"
   ]
  },
  {
   "cell_type": "code",
   "execution_count": 277,
   "metadata": {},
   "outputs": [],
   "source": [
    "dates_7_13 = []\n",
    "\n",
    "for ix in range(22):\n",
    "    if len(set(df_7_13.iloc[ix].values)) > 3:\n",
    "        dates_7_13.append(ix)"
   ]
  },
  {
   "cell_type": "code",
   "execution_count": 278,
   "metadata": {},
   "outputs": [
    {
     "data": {
      "text/plain": [
       "[8]"
      ]
     },
     "execution_count": 278,
     "metadata": {},
     "output_type": "execute_result"
    }
   ],
   "source": [
    "dates_7_13"
   ]
  },
  {
   "cell_type": "markdown",
   "metadata": {},
   "source": [
    "# VICTORY"
   ]
  },
  {
   "cell_type": "code",
   "execution_count": 279,
   "metadata": {},
   "outputs": [
    {
     "data": {
      "text/html": [
       "<div>\n",
       "<style scoped>\n",
       "    .dataframe tbody tr th:only-of-type {\n",
       "        vertical-align: middle;\n",
       "    }\n",
       "\n",
       "    .dataframe tbody tr th {\n",
       "        vertical-align: top;\n",
       "    }\n",
       "\n",
       "    .dataframe thead th {\n",
       "        text-align: right;\n",
       "    }\n",
       "</style>\n",
       "<table border=\"1\" class=\"dataframe\">\n",
       "  <thead>\n",
       "    <tr style=\"text-align: right;\">\n",
       "      <th></th>\n",
       "      <th>Fine04</th>\n",
       "      <th>Fine05</th>\n",
       "      <th>Fine06</th>\n",
       "      <th>FineRain02</th>\n",
       "      <th>FineRain03</th>\n",
       "    </tr>\n",
       "  </thead>\n",
       "  <tbody>\n",
       "    <tr>\n",
       "      <th>15:00</th>\n",
       "      <td>Sunny</td>\n",
       "      <td>Sunny</td>\n",
       "      <td>Clear/Fine</td>\n",
       "      <td>Heavy rain</td>\n",
       "      <td>Rain</td>\n",
       "    </tr>\n",
       "  </tbody>\n",
       "</table>\n",
       "</div>"
      ],
      "text/plain": [
       "      Fine04 Fine05      Fine06  FineRain02 FineRain03\n",
       "15:00  Sunny  Sunny  Clear/Fine  Heavy rain       Rain"
      ]
     },
     "execution_count": 279,
     "metadata": {},
     "output_type": "execute_result"
    }
   ],
   "source": [
    "df_7_13.iloc[dates_7_13]"
   ]
  },
  {
   "cell_type": "markdown",
   "metadata": {},
   "source": [
    "Process: test 7:00, 13:00, and if both are sunny, check 15:00\n",
    "\n",
    "If it's sunny again check 16:00"
   ]
  },
  {
   "cell_type": "code",
   "execution_count": 280,
   "metadata": {},
   "outputs": [
    {
     "data": {
      "text/html": [
       "<div>\n",
       "<style scoped>\n",
       "    .dataframe tbody tr th:only-of-type {\n",
       "        vertical-align: middle;\n",
       "    }\n",
       "\n",
       "    .dataframe tbody tr th {\n",
       "        vertical-align: top;\n",
       "    }\n",
       "\n",
       "    .dataframe thead th {\n",
       "        text-align: right;\n",
       "    }\n",
       "</style>\n",
       "<table border=\"1\" class=\"dataframe\">\n",
       "  <thead>\n",
       "    <tr style=\"text-align: right;\">\n",
       "      <th></th>\n",
       "      <th>Fine04</th>\n",
       "      <th>Fine05</th>\n",
       "      <th>Fine06</th>\n",
       "      <th>FineRain02</th>\n",
       "      <th>FineRain03</th>\n",
       "    </tr>\n",
       "  </thead>\n",
       "  <tbody>\n",
       "    <tr>\n",
       "      <th>5:00</th>\n",
       "      <td>Sunny</td>\n",
       "      <td>Sunny</td>\n",
       "      <td>Sunny</td>\n",
       "      <td>Clear/Fine</td>\n",
       "      <td>Sunny</td>\n",
       "    </tr>\n",
       "    <tr>\n",
       "      <th>6:00</th>\n",
       "      <td>Sunny</td>\n",
       "      <td>Sunny</td>\n",
       "      <td>Cloudy</td>\n",
       "      <td>Clear/Fine</td>\n",
       "      <td>Sunny</td>\n",
       "    </tr>\n",
       "    <tr>\n",
       "      <th>8:00</th>\n",
       "      <td>Sunny</td>\n",
       "      <td>Clear/Fine</td>\n",
       "      <td>Sunny</td>\n",
       "      <td>Clear/Fine</td>\n",
       "      <td>Clear/Fine</td>\n",
       "    </tr>\n",
       "    <tr>\n",
       "      <th>9:00</th>\n",
       "      <td>Cloudy</td>\n",
       "      <td>Sunny</td>\n",
       "      <td>Cloudy</td>\n",
       "      <td>Sunny</td>\n",
       "      <td>Sunny</td>\n",
       "    </tr>\n",
       "    <tr>\n",
       "      <th>10:00</th>\n",
       "      <td>Sunny</td>\n",
       "      <td>Sunny</td>\n",
       "      <td>Clear/Fine</td>\n",
       "      <td>Clear/Fine</td>\n",
       "      <td>Clear/Fine</td>\n",
       "    </tr>\n",
       "    <tr>\n",
       "      <th>11:00</th>\n",
       "      <td>Sunny</td>\n",
       "      <td>Clear/Fine</td>\n",
       "      <td>Sunny</td>\n",
       "      <td>Sunny</td>\n",
       "      <td>Clear/Fine</td>\n",
       "    </tr>\n",
       "    <tr>\n",
       "      <th>12:00</th>\n",
       "      <td>Clear/Fine</td>\n",
       "      <td>Sunny</td>\n",
       "      <td>Clear/Fine</td>\n",
       "      <td>Clear/Fine</td>\n",
       "      <td>Sunny</td>\n",
       "    </tr>\n",
       "    <tr>\n",
       "      <th>14:00</th>\n",
       "      <td>Cloudy</td>\n",
       "      <td>Cloudy</td>\n",
       "      <td>Sunny</td>\n",
       "      <td>Sunny</td>\n",
       "      <td>Heavy rain</td>\n",
       "    </tr>\n",
       "    <tr>\n",
       "      <th>15:00</th>\n",
       "      <td>Sunny</td>\n",
       "      <td>Sunny</td>\n",
       "      <td>Clear/Fine</td>\n",
       "      <td>Heavy rain</td>\n",
       "      <td>Rain</td>\n",
       "    </tr>\n",
       "    <tr>\n",
       "      <th>16:00</th>\n",
       "      <td>Clear/Fine</td>\n",
       "      <td>Sunny</td>\n",
       "      <td>Sunny</td>\n",
       "      <td>Cloudy</td>\n",
       "      <td>Sunny</td>\n",
       "    </tr>\n",
       "    <tr>\n",
       "      <th>17:00</th>\n",
       "      <td>Sunny</td>\n",
       "      <td>Clear/Fine</td>\n",
       "      <td>Cloudy</td>\n",
       "      <td>Sunny</td>\n",
       "      <td>Sunny</td>\n",
       "    </tr>\n",
       "    <tr>\n",
       "      <th>18:00</th>\n",
       "      <td>Clear/Fine</td>\n",
       "      <td>Sunny</td>\n",
       "      <td>Cloudy</td>\n",
       "      <td>Clear/Fine</td>\n",
       "      <td>Sunny</td>\n",
       "    </tr>\n",
       "    <tr>\n",
       "      <th>19:00</th>\n",
       "      <td>Sunny</td>\n",
       "      <td>Cloudy</td>\n",
       "      <td>Sunny</td>\n",
       "      <td>Sunny</td>\n",
       "      <td>Clear/Fine</td>\n",
       "    </tr>\n",
       "    <tr>\n",
       "      <th>20:00</th>\n",
       "      <td>Sunny</td>\n",
       "      <td>Sunny</td>\n",
       "      <td>Sunny</td>\n",
       "      <td>Sunny</td>\n",
       "      <td>Sunny</td>\n",
       "    </tr>\n",
       "    <tr>\n",
       "      <th>21:00</th>\n",
       "      <td>Clear/Fine</td>\n",
       "      <td>Sunny</td>\n",
       "      <td>Sunny</td>\n",
       "      <td>Clear/Fine</td>\n",
       "      <td>Sunny</td>\n",
       "    </tr>\n",
       "    <tr>\n",
       "      <th>22:00</th>\n",
       "      <td>Sunny</td>\n",
       "      <td>Clear/Fine</td>\n",
       "      <td>Clear/Fine</td>\n",
       "      <td>Sunny</td>\n",
       "      <td>Clear/Fine</td>\n",
       "    </tr>\n",
       "    <tr>\n",
       "      <th>23:00</th>\n",
       "      <td>Clear/Fine</td>\n",
       "      <td>Sunny</td>\n",
       "      <td>Clear/Fine</td>\n",
       "      <td>Clear/Fine</td>\n",
       "      <td>Sunny</td>\n",
       "    </tr>\n",
       "    <tr>\n",
       "      <th>0:00</th>\n",
       "      <td>Clear/Fine</td>\n",
       "      <td>Cloudy</td>\n",
       "      <td>Clear/Fine</td>\n",
       "      <td>Sunny</td>\n",
       "      <td>Clear/Fine</td>\n",
       "    </tr>\n",
       "    <tr>\n",
       "      <th>1:00</th>\n",
       "      <td>Clear/Fine</td>\n",
       "      <td>Sunny</td>\n",
       "      <td>Sunny</td>\n",
       "      <td>Clear/Fine</td>\n",
       "      <td>Clear/Fine</td>\n",
       "    </tr>\n",
       "    <tr>\n",
       "      <th>2:00</th>\n",
       "      <td>Clear/Fine</td>\n",
       "      <td>Sunny</td>\n",
       "      <td>Clear/Fine</td>\n",
       "      <td>Clear/Fine</td>\n",
       "      <td>Sunny</td>\n",
       "    </tr>\n",
       "    <tr>\n",
       "      <th>3:00</th>\n",
       "      <td>Sunny</td>\n",
       "      <td>Clear/Fine</td>\n",
       "      <td>Sunny</td>\n",
       "      <td>Sunny</td>\n",
       "      <td>Clear/Fine</td>\n",
       "    </tr>\n",
       "    <tr>\n",
       "      <th>4:00</th>\n",
       "      <td>Sunny</td>\n",
       "      <td>Sunny</td>\n",
       "      <td>Sunny</td>\n",
       "      <td>Sunny</td>\n",
       "      <td>Sunny</td>\n",
       "    </tr>\n",
       "  </tbody>\n",
       "</table>\n",
       "</div>"
      ],
      "text/plain": [
       "           Fine04      Fine05      Fine06  FineRain02  FineRain03\n",
       "5:00        Sunny       Sunny       Sunny  Clear/Fine       Sunny\n",
       "6:00        Sunny       Sunny      Cloudy  Clear/Fine       Sunny\n",
       "8:00        Sunny  Clear/Fine       Sunny  Clear/Fine  Clear/Fine\n",
       "9:00       Cloudy       Sunny      Cloudy       Sunny       Sunny\n",
       "10:00       Sunny       Sunny  Clear/Fine  Clear/Fine  Clear/Fine\n",
       "11:00       Sunny  Clear/Fine       Sunny       Sunny  Clear/Fine\n",
       "12:00  Clear/Fine       Sunny  Clear/Fine  Clear/Fine       Sunny\n",
       "14:00      Cloudy      Cloudy       Sunny       Sunny  Heavy rain\n",
       "15:00       Sunny       Sunny  Clear/Fine  Heavy rain        Rain\n",
       "16:00  Clear/Fine       Sunny       Sunny      Cloudy       Sunny\n",
       "17:00       Sunny  Clear/Fine      Cloudy       Sunny       Sunny\n",
       "18:00  Clear/Fine       Sunny      Cloudy  Clear/Fine       Sunny\n",
       "19:00       Sunny      Cloudy       Sunny       Sunny  Clear/Fine\n",
       "20:00       Sunny       Sunny       Sunny       Sunny       Sunny\n",
       "21:00  Clear/Fine       Sunny       Sunny  Clear/Fine       Sunny\n",
       "22:00       Sunny  Clear/Fine  Clear/Fine       Sunny  Clear/Fine\n",
       "23:00  Clear/Fine       Sunny  Clear/Fine  Clear/Fine       Sunny\n",
       "0:00   Clear/Fine      Cloudy  Clear/Fine       Sunny  Clear/Fine\n",
       "1:00   Clear/Fine       Sunny       Sunny  Clear/Fine  Clear/Fine\n",
       "2:00   Clear/Fine       Sunny  Clear/Fine  Clear/Fine       Sunny\n",
       "3:00        Sunny  Clear/Fine       Sunny       Sunny  Clear/Fine\n",
       "4:00        Sunny       Sunny       Sunny       Sunny       Sunny"
      ]
     },
     "execution_count": 280,
     "metadata": {},
     "output_type": "execute_result"
    }
   ],
   "source": [
    "df_7_13"
   ]
  },
  {
   "cell_type": "code",
   "execution_count": null,
   "metadata": {},
   "outputs": [],
   "source": []
  },
  {
   "cell_type": "code",
   "execution_count": null,
   "metadata": {},
   "outputs": [],
   "source": []
  },
  {
   "cell_type": "code",
   "execution_count": null,
   "metadata": {},
   "outputs": [],
   "source": []
  },
  {
   "cell_type": "code",
   "execution_count": 195,
   "metadata": {},
   "outputs": [],
   "source": [
    "# d"
   ]
  },
  {
   "cell_type": "code",
   "execution_count": null,
   "metadata": {},
   "outputs": [],
   "source": []
  },
  {
   "cell_type": "code",
   "execution_count": null,
   "metadata": {},
   "outputs": [],
   "source": []
  },
  {
   "cell_type": "code",
   "execution_count": null,
   "metadata": {},
   "outputs": [],
   "source": []
  },
  {
   "cell_type": "code",
   "execution_count": null,
   "metadata": {},
   "outputs": [],
   "source": []
  },
  {
   "cell_type": "code",
   "execution_count": null,
   "metadata": {},
   "outputs": [],
   "source": []
  },
  {
   "cell_type": "code",
   "execution_count": null,
   "metadata": {},
   "outputs": [],
   "source": []
  },
  {
   "cell_type": "code",
   "execution_count": null,
   "metadata": {},
   "outputs": [],
   "source": []
  },
  {
   "cell_type": "code",
   "execution_count": null,
   "metadata": {},
   "outputs": [],
   "source": []
  },
  {
   "cell_type": "code",
   "execution_count": null,
   "metadata": {},
   "outputs": [],
   "source": []
  },
  {
   "cell_type": "code",
   "execution_count": null,
   "metadata": {},
   "outputs": [],
   "source": []
  },
  {
   "cell_type": "code",
   "execution_count": null,
   "metadata": {},
   "outputs": [],
   "source": []
  },
  {
   "cell_type": "code",
   "execution_count": 175,
   "metadata": {},
   "outputs": [
    {
     "data": {
      "text/html": [
       "<div>\n",
       "<style scoped>\n",
       "    .dataframe tbody tr th:only-of-type {\n",
       "        vertical-align: middle;\n",
       "    }\n",
       "\n",
       "    .dataframe tbody tr th {\n",
       "        vertical-align: top;\n",
       "    }\n",
       "\n",
       "    .dataframe thead th {\n",
       "        text-align: right;\n",
       "    }\n",
       "</style>\n",
       "<table border=\"1\" class=\"dataframe\">\n",
       "  <thead>\n",
       "    <tr style=\"text-align: right;\">\n",
       "      <th></th>\n",
       "      <th>Fine00</th>\n",
       "      <th>Fine01</th>\n",
       "      <th>Fine02</th>\n",
       "      <th>Fine03</th>\n",
       "      <th>Fine04</th>\n",
       "      <th>Fine05</th>\n",
       "      <th>Fine06</th>\n",
       "      <th>Cloud00</th>\n",
       "      <th>Cloud01</th>\n",
       "      <th>Cloud02</th>\n",
       "      <th>CloudFine00</th>\n",
       "      <th>CloudFine01</th>\n",
       "      <th>CloudFine02</th>\n",
       "      <th>FineRain00</th>\n",
       "      <th>FineRain01</th>\n",
       "      <th>FineRain02</th>\n",
       "      <th>FineRain03</th>\n",
       "    </tr>\n",
       "  </thead>\n",
       "  <tbody>\n",
       "    <tr>\n",
       "      <th>6:00</th>\n",
       "      <td>Sunny</td>\n",
       "      <td>Clear/Fine</td>\n",
       "      <td>Sunny</td>\n",
       "      <td>Sunny</td>\n",
       "      <td>Sunny</td>\n",
       "      <td>Sunny</td>\n",
       "      <td>Cloudy</td>\n",
       "      <td>Rain clouds</td>\n",
       "      <td>Cloudy</td>\n",
       "      <td>Cloudy</td>\n",
       "      <td>Rain</td>\n",
       "      <td>Rain</td>\n",
       "      <td>Cloudy</td>\n",
       "      <td>Sunny</td>\n",
       "      <td>Clear/Fine</td>\n",
       "      <td>Clear/Fine</td>\n",
       "      <td>Sunny</td>\n",
       "    </tr>\n",
       "    <tr>\n",
       "      <th>15:00</th>\n",
       "      <td>Sunny</td>\n",
       "      <td>Clear/Fine</td>\n",
       "      <td>Sunny</td>\n",
       "      <td>Clear/Fine</td>\n",
       "      <td>Sunny</td>\n",
       "      <td>Sunny</td>\n",
       "      <td>Clear/Fine</td>\n",
       "      <td>Sunny</td>\n",
       "      <td>Cloudy</td>\n",
       "      <td>Rain</td>\n",
       "      <td>Sunny</td>\n",
       "      <td>Cloudy</td>\n",
       "      <td>Sunny</td>\n",
       "      <td>Sunny</td>\n",
       "      <td>Sunny</td>\n",
       "      <td>Heavy rain</td>\n",
       "      <td>Rain</td>\n",
       "    </tr>\n",
       "  </tbody>\n",
       "</table>\n",
       "</div>"
      ],
      "text/plain": [
       "      Fine00      Fine01 Fine02      Fine03 Fine04 Fine05      Fine06  \\\n",
       "6:00   Sunny  Clear/Fine  Sunny       Sunny  Sunny  Sunny      Cloudy   \n",
       "15:00  Sunny  Clear/Fine  Sunny  Clear/Fine  Sunny  Sunny  Clear/Fine   \n",
       "\n",
       "           Cloud00 Cloud01 Cloud02 CloudFine00 CloudFine01 CloudFine02  \\\n",
       "6:00   Rain clouds  Cloudy  Cloudy        Rain        Rain      Cloudy   \n",
       "15:00        Sunny  Cloudy    Rain       Sunny      Cloudy       Sunny   \n",
       "\n",
       "      FineRain00  FineRain01  FineRain02 FineRain03  \n",
       "6:00       Sunny  Clear/Fine  Clear/Fine      Sunny  \n",
       "15:00      Sunny       Sunny  Heavy rain       Rain  "
      ]
     },
     "execution_count": 175,
     "metadata": {},
     "output_type": "execute_result"
    }
   ],
   "source": [
    "df_from_times(df, ('6:00', '15:00'))"
   ]
  },
  {
   "cell_type": "code",
   "execution_count": 178,
   "metadata": {},
   "outputs": [
    {
     "data": {
      "text/plain": [
       "Counter({('Clear/Fine', 'Clear/Fine'): 1,\n",
       "         ('Clear/Fine', 'Heavy rain'): 1,\n",
       "         ('Clear/Fine', 'Sunny'): 1,\n",
       "         ('Cloudy', 'Clear/Fine'): 1,\n",
       "         ('Cloudy', 'Cloudy'): 1,\n",
       "         ('Cloudy', 'Rain'): 1,\n",
       "         ('Cloudy', 'Sunny'): 1,\n",
       "         ('Rain', 'Cloudy'): 1,\n",
       "         ('Rain', 'Sunny'): 1,\n",
       "         ('Rain clouds', 'Sunny'): 1,\n",
       "         ('Sunny', 'Clear/Fine'): 1,\n",
       "         ('Sunny', 'Rain'): 1,\n",
       "         ('Sunny', 'Sunny'): 5})"
      ]
     },
     "execution_count": 178,
     "metadata": {},
     "output_type": "execute_result"
    }
   ],
   "source": [
    "d[('6:00', '15:00')]"
   ]
  },
  {
   "cell_type": "code",
   "execution_count": 181,
   "metadata": {},
   "outputs": [
    {
     "data": {
      "text/html": [
       "<div>\n",
       "<style scoped>\n",
       "    .dataframe tbody tr th:only-of-type {\n",
       "        vertical-align: middle;\n",
       "    }\n",
       "\n",
       "    .dataframe tbody tr th {\n",
       "        vertical-align: top;\n",
       "    }\n",
       "\n",
       "    .dataframe thead th {\n",
       "        text-align: right;\n",
       "    }\n",
       "</style>\n",
       "<table border=\"1\" class=\"dataframe\">\n",
       "  <thead>\n",
       "    <tr style=\"text-align: right;\">\n",
       "      <th></th>\n",
       "      <th>Fine00</th>\n",
       "      <th>Fine01</th>\n",
       "      <th>Fine02</th>\n",
       "      <th>Fine03</th>\n",
       "      <th>Fine04</th>\n",
       "      <th>Fine05</th>\n",
       "      <th>Fine06</th>\n",
       "      <th>Cloud00</th>\n",
       "      <th>Cloud01</th>\n",
       "      <th>Cloud02</th>\n",
       "      <th>CloudFine00</th>\n",
       "      <th>CloudFine01</th>\n",
       "      <th>CloudFine02</th>\n",
       "      <th>FineRain00</th>\n",
       "      <th>FineRain01</th>\n",
       "      <th>FineRain02</th>\n",
       "      <th>FineRain03</th>\n",
       "    </tr>\n",
       "  </thead>\n",
       "  <tbody>\n",
       "    <tr>\n",
       "      <th>6:00</th>\n",
       "      <td>Sunny</td>\n",
       "      <td>Clear/Fine</td>\n",
       "      <td>Sunny</td>\n",
       "      <td>Sunny</td>\n",
       "      <td>Sunny</td>\n",
       "      <td>Sunny</td>\n",
       "      <td>Cloudy</td>\n",
       "      <td>Rain clouds</td>\n",
       "      <td>Cloudy</td>\n",
       "      <td>Cloudy</td>\n",
       "      <td>Rain</td>\n",
       "      <td>Rain</td>\n",
       "      <td>Cloudy</td>\n",
       "      <td>Sunny</td>\n",
       "      <td>Clear/Fine</td>\n",
       "      <td>Clear/Fine</td>\n",
       "      <td>Sunny</td>\n",
       "    </tr>\n",
       "    <tr>\n",
       "      <th>15:00</th>\n",
       "      <td>Sunny</td>\n",
       "      <td>Clear/Fine</td>\n",
       "      <td>Sunny</td>\n",
       "      <td>Clear/Fine</td>\n",
       "      <td>Sunny</td>\n",
       "      <td>Sunny</td>\n",
       "      <td>Clear/Fine</td>\n",
       "      <td>Sunny</td>\n",
       "      <td>Cloudy</td>\n",
       "      <td>Rain</td>\n",
       "      <td>Sunny</td>\n",
       "      <td>Cloudy</td>\n",
       "      <td>Sunny</td>\n",
       "      <td>Sunny</td>\n",
       "      <td>Sunny</td>\n",
       "      <td>Heavy rain</td>\n",
       "      <td>Rain</td>\n",
       "    </tr>\n",
       "  </tbody>\n",
       "</table>\n",
       "</div>"
      ],
      "text/plain": [
       "      Fine00      Fine01 Fine02      Fine03 Fine04 Fine05      Fine06  \\\n",
       "6:00   Sunny  Clear/Fine  Sunny       Sunny  Sunny  Sunny      Cloudy   \n",
       "15:00  Sunny  Clear/Fine  Sunny  Clear/Fine  Sunny  Sunny  Clear/Fine   \n",
       "\n",
       "           Cloud00 Cloud01 Cloud02 CloudFine00 CloudFine01 CloudFine02  \\\n",
       "6:00   Rain clouds  Cloudy  Cloudy        Rain        Rain      Cloudy   \n",
       "15:00        Sunny  Cloudy    Rain       Sunny      Cloudy       Sunny   \n",
       "\n",
       "      FineRain00  FineRain01  FineRain02 FineRain03  \n",
       "6:00       Sunny  Clear/Fine  Clear/Fine      Sunny  \n",
       "15:00      Sunny       Sunny  Heavy rain       Rain  "
      ]
     },
     "execution_count": 181,
     "metadata": {},
     "output_type": "execute_result"
    }
   ],
   "source": [
    "df_from_times(df, ('6:00', '15:00'))"
   ]
  },
  {
   "cell_type": "code",
   "execution_count": 234,
   "metadata": {},
   "outputs": [],
   "source": [
    "# for k, v in d.items():\n",
    "#     print(k)\n",
    "#     print(len(v))\n",
    "#     print()"
   ]
  },
  {
   "cell_type": "code",
   "execution_count": null,
   "metadata": {},
   "outputs": [],
   "source": []
  },
  {
   "cell_type": "code",
   "execution_count": null,
   "metadata": {},
   "outputs": [],
   "source": []
  },
  {
   "cell_type": "code",
   "execution_count": null,
   "metadata": {},
   "outputs": [],
   "source": []
  },
  {
   "cell_type": "code",
   "execution_count": null,
   "metadata": {},
   "outputs": [],
   "source": []
  },
  {
   "cell_type": "code",
   "execution_count": 137,
   "metadata": {},
   "outputs": [
    {
     "data": {
      "text/plain": [
       "[('5:00', '6:00'),\n",
       " ('5:00', '7:00'),\n",
       " ('5:00', '8:00'),\n",
       " ('5:00', '9:00'),\n",
       " ('5:00', '10:00')]"
      ]
     },
     "execution_count": 137,
     "metadata": {},
     "output_type": "execute_result"
    }
   ],
   "source": []
  },
  {
   "cell_type": "code",
   "execution_count": null,
   "metadata": {},
   "outputs": [],
   "source": [
    "for times in combinations(df.index, 2):\n",
    "    "
   ]
  },
  {
   "cell_type": "code",
   "execution_count": null,
   "metadata": {},
   "outputs": [],
   "source": []
  },
  {
   "cell_type": "code",
   "execution_count": 59,
   "metadata": {},
   "outputs": [
    {
     "data": {
      "text/plain": [
       "(24, 17)"
      ]
     },
     "execution_count": 59,
     "metadata": {},
     "output_type": "execute_result"
    }
   ],
   "source": [
    "df.shape"
   ]
  },
  {
   "cell_type": "code",
   "execution_count": 60,
   "metadata": {},
   "outputs": [
    {
     "data": {
      "text/plain": [
       "Index(['Fine00', 'Fine01', 'Fine02', 'Fine03', 'Fine04', 'Fine05', 'Fine06',\n",
       "       'Cloud00', 'Cloud01', 'Cloud02', 'CloudFine00', 'CloudFine01',\n",
       "       'CloudFine02', 'FineRain00', 'FineRain01', 'FineRain02', 'FineRain03'],\n",
       "      dtype='object')"
      ]
     },
     "execution_count": 60,
     "metadata": {},
     "output_type": "execute_result"
    }
   ],
   "source": [
    "df.columns"
   ]
  },
  {
   "cell_type": "code",
   "execution_count": null,
   "metadata": {},
   "outputs": [],
   "source": []
  }
 ],
 "metadata": {
  "kernelspec": {
   "display_name": "Python 3",
   "language": "python",
   "name": "python3"
  },
  "language_info": {
   "codemirror_mode": {
    "name": "ipython",
    "version": 3
   },
   "file_extension": ".py",
   "mimetype": "text/x-python",
   "name": "python",
   "nbconvert_exporter": "python",
   "pygments_lexer": "ipython3",
   "version": "3.6.4"
  }
 },
 "nbformat": 4,
 "nbformat_minor": 4
}
