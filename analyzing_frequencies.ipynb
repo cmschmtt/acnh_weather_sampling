{
 "cells": [
  {
   "cell_type": "code",
   "execution_count": 1,
   "metadata": {},
   "outputs": [],
   "source": [
    "import pandas as pd\n",
    "\n",
    "from collections import Counter, defaultdict\n",
    "from itertools import combinations, combinations_with_replacement, permutations"
   ]
  },
  {
   "cell_type": "markdown",
   "metadata": {},
   "source": [
    "## Preprocessing\n",
    "\n",
    "- import the data\n",
    "- convert weather encodings\n",
    "- make index time-like\n",
    "- re-order based on time"
   ]
  },
  {
   "cell_type": "code",
   "execution_count": 2,
   "metadata": {},
   "outputs": [
    {
     "data": {
      "text/html": [
       "<div>\n",
       "<style scoped>\n",
       "    .dataframe tbody tr th:only-of-type {\n",
       "        vertical-align: middle;\n",
       "    }\n",
       "\n",
       "    .dataframe tbody tr th {\n",
       "        vertical-align: top;\n",
       "    }\n",
       "\n",
       "    .dataframe thead th {\n",
       "        text-align: right;\n",
       "    }\n",
       "</style>\n",
       "<table border=\"1\" class=\"dataframe\">\n",
       "  <thead>\n",
       "    <tr style=\"text-align: right;\">\n",
       "      <th></th>\n",
       "      <th>Fine00</th>\n",
       "      <th>Fine01</th>\n",
       "      <th>Fine02</th>\n",
       "      <th>Fine03</th>\n",
       "      <th>Fine04</th>\n",
       "      <th>Fine05</th>\n",
       "      <th>Fine06</th>\n",
       "      <th>Cloud00</th>\n",
       "      <th>Cloud01</th>\n",
       "      <th>Cloud02</th>\n",
       "      <th>...</th>\n",
       "      <th>FineRain00</th>\n",
       "      <th>FineRain01</th>\n",
       "      <th>FineRain02</th>\n",
       "      <th>FineRain03</th>\n",
       "      <th>CloudRain00</th>\n",
       "      <th>CloudRain01</th>\n",
       "      <th>CloudRain02</th>\n",
       "      <th>RainCloud00</th>\n",
       "      <th>RainCloud01</th>\n",
       "      <th>RainCloud02</th>\n",
       "    </tr>\n",
       "  </thead>\n",
       "  <tbody>\n",
       "    <tr>\n",
       "      <th>5:00</th>\n",
       "      <td>Clear/Fine</td>\n",
       "      <td>Sunny</td>\n",
       "      <td>Sunny</td>\n",
       "      <td>Sunny</td>\n",
       "      <td>Sunny</td>\n",
       "      <td>Sunny</td>\n",
       "      <td>Sunny</td>\n",
       "      <td>Cloudy</td>\n",
       "      <td>Cloudy</td>\n",
       "      <td>Cloudy</td>\n",
       "      <td>...</td>\n",
       "      <td>Sunny</td>\n",
       "      <td>Sunny</td>\n",
       "      <td>Clear/Fine</td>\n",
       "      <td>Sunny</td>\n",
       "      <td>Rain</td>\n",
       "      <td>Cloudy</td>\n",
       "      <td>Rain</td>\n",
       "      <td>Cloudy</td>\n",
       "      <td>Rain clouds</td>\n",
       "      <td>Rain clouds</td>\n",
       "    </tr>\n",
       "    <tr>\n",
       "      <th>6:00</th>\n",
       "      <td>Sunny</td>\n",
       "      <td>Clear/Fine</td>\n",
       "      <td>Sunny</td>\n",
       "      <td>Sunny</td>\n",
       "      <td>Sunny</td>\n",
       "      <td>Sunny</td>\n",
       "      <td>Cloudy</td>\n",
       "      <td>Rain clouds</td>\n",
       "      <td>Cloudy</td>\n",
       "      <td>Cloudy</td>\n",
       "      <td>...</td>\n",
       "      <td>Sunny</td>\n",
       "      <td>Clear/Fine</td>\n",
       "      <td>Clear/Fine</td>\n",
       "      <td>Sunny</td>\n",
       "      <td>Cloudy</td>\n",
       "      <td>Sunny</td>\n",
       "      <td>Cloudy</td>\n",
       "      <td>Rain</td>\n",
       "      <td>Rain</td>\n",
       "      <td>Heavy rain</td>\n",
       "    </tr>\n",
       "    <tr>\n",
       "      <th>7:00</th>\n",
       "      <td>Clear/Fine</td>\n",
       "      <td>Sunny</td>\n",
       "      <td>Clear/Fine</td>\n",
       "      <td>Clear/Fine</td>\n",
       "      <td>Sunny</td>\n",
       "      <td>Sunny</td>\n",
       "      <td>Sunny</td>\n",
       "      <td>Cloudy</td>\n",
       "      <td>Cloudy</td>\n",
       "      <td>Rain clouds</td>\n",
       "      <td>...</td>\n",
       "      <td>Clear/Fine</td>\n",
       "      <td>Sunny</td>\n",
       "      <td>Sunny</td>\n",
       "      <td>Sunny</td>\n",
       "      <td>Cloudy</td>\n",
       "      <td>Sunny</td>\n",
       "      <td>Cloudy</td>\n",
       "      <td>Rain</td>\n",
       "      <td>Rain</td>\n",
       "      <td>Heavy rain</td>\n",
       "    </tr>\n",
       "  </tbody>\n",
       "</table>\n",
       "<p>3 rows × 32 columns</p>\n",
       "</div>"
      ],
      "text/plain": [
       "          Fine00      Fine01      Fine02      Fine03 Fine04 Fine05  Fine06  \\\n",
       "5:00  Clear/Fine       Sunny       Sunny       Sunny  Sunny  Sunny   Sunny   \n",
       "6:00       Sunny  Clear/Fine       Sunny       Sunny  Sunny  Sunny  Cloudy   \n",
       "7:00  Clear/Fine       Sunny  Clear/Fine  Clear/Fine  Sunny  Sunny   Sunny   \n",
       "\n",
       "          Cloud00 Cloud01      Cloud02  ...  FineRain00  FineRain01  \\\n",
       "5:00       Cloudy  Cloudy       Cloudy  ...       Sunny       Sunny   \n",
       "6:00  Rain clouds  Cloudy       Cloudy  ...       Sunny  Clear/Fine   \n",
       "7:00       Cloudy  Cloudy  Rain clouds  ...  Clear/Fine       Sunny   \n",
       "\n",
       "      FineRain02 FineRain03 CloudRain00 CloudRain01 CloudRain02 RainCloud00  \\\n",
       "5:00  Clear/Fine      Sunny        Rain      Cloudy        Rain      Cloudy   \n",
       "6:00  Clear/Fine      Sunny      Cloudy       Sunny      Cloudy        Rain   \n",
       "7:00       Sunny      Sunny      Cloudy       Sunny      Cloudy        Rain   \n",
       "\n",
       "      RainCloud01  RainCloud02  \n",
       "5:00  Rain clouds  Rain clouds  \n",
       "6:00         Rain   Heavy rain  \n",
       "7:00         Rain   Heavy rain  \n",
       "\n",
       "[3 rows x 32 columns]"
      ]
     },
     "execution_count": 2,
     "metadata": {},
     "output_type": "execute_result"
    }
   ],
   "source": [
    "df = pd.read_csv('patterns.csv')\n",
    "\n",
    "# to make more readable/mimic website formatting\n",
    "patterns_dict = {\n",
    "    'F': 'Clear/Fine',\n",
    "    'C': 'Sunny',\n",
    "    'O': 'Cloudy',\n",
    "    'RC': 'Rain clouds',\n",
    "    'R': 'Rain',\n",
    "    'HR': 'Heavy rain'\n",
    "}\n",
    "\n",
    "# add time formatting\n",
    "for col in df.columns:\n",
    "    df[col] = df[col].map(patterns_dict)\n",
    "\n",
    "# order the df to match game treatment of date roll-over\n",
    "df.index = [str(each)+':00' for each in list(df.index)]\n",
    "first_five_hours = list(df.index[:5])\n",
    "rest_of_day = list(df.index[5:])\n",
    "df = df.loc[rest_of_day + first_five_hours]\n",
    "\n",
    "df.head(3)"
   ]
  },
  {
   "cell_type": "markdown",
   "metadata": {},
   "source": [
    "## Dropping types that don't exist in-game\n",
    "\n",
    "Several types are in the data I yanked which don't show up as viable weather pattern options on the MeteoNook website - they might be for other things in the game (like Nook Miles islands.)\n",
    "\n",
    "In particular,\n",
    "\n",
    "- `Rain__` is not a user-island option\n",
    "- `FineCloud__` is not a user-island option\n",
    "- `CloudRain__` is not a user-island option\n",
    "- `RainCloud__` is not a user-island option"
   ]
  },
  {
   "cell_type": "code",
   "execution_count": 3,
   "metadata": {},
   "outputs": [
    {
     "data": {
      "text/plain": [
       "(24, 17)"
      ]
     },
     "execution_count": 3,
     "metadata": {},
     "output_type": "execute_result"
    }
   ],
   "source": [
    "rain_types = ['Rain00', 'Rain01', 'Rain02', 'Rain03', 'Rain04', 'Rain05']\n",
    "finecloud_types = ['FineCloud00', 'FineCloud01', 'FineCloud02']\n",
    "cloudrain_types = ['CloudRain00', 'CloudRain01', 'CloudRain02']\n",
    "raincloud_types = ['RainCloud00', 'RainCloud01', 'RainCloud02']\n",
    "\n",
    "drop_cols = rain_types + finecloud_types + cloudrain_types + raincloud_types\n",
    "\n",
    "df.drop(columns=drop_cols, inplace=True)\n",
    "df.shape"
   ]
  },
  {
   "cell_type": "markdown",
   "metadata": {},
   "source": [
    "## Evaluating optimal hour checks\n",
    "\n",
    "My question is basically \"assuming uniform probabilities for each weather pattern\" (which might not be the case) \"is there some 2 or 3 hours that are most efficient to check?\"\n",
    "\n",
    "Ideally I'd like to find some 2 or 3 hours which uniquely identify any of the 17 weather patterns."
   ]
  },
  {
   "cell_type": "markdown",
   "metadata": {},
   "source": [
    "### Setting up combinations\n",
    "\n",
    "Here is some code from when I was remembering how `combinations` works."
   ]
  },
  {
   "cell_type": "code",
   "execution_count": 4,
   "metadata": {},
   "outputs": [],
   "source": [
    "# generator, so for tinkering chuck to list and index\n",
    "two_times = list(combinations(df.index, 2))[0]"
   ]
  },
  {
   "cell_type": "code",
   "execution_count": 5,
   "metadata": {},
   "outputs": [
    {
     "data": {
      "text/html": [
       "<div>\n",
       "<style scoped>\n",
       "    .dataframe tbody tr th:only-of-type {\n",
       "        vertical-align: middle;\n",
       "    }\n",
       "\n",
       "    .dataframe tbody tr th {\n",
       "        vertical-align: top;\n",
       "    }\n",
       "\n",
       "    .dataframe thead th {\n",
       "        text-align: right;\n",
       "    }\n",
       "</style>\n",
       "<table border=\"1\" class=\"dataframe\">\n",
       "  <thead>\n",
       "    <tr style=\"text-align: right;\">\n",
       "      <th></th>\n",
       "      <th>Fine00</th>\n",
       "      <th>Fine01</th>\n",
       "      <th>Fine02</th>\n",
       "      <th>Fine03</th>\n",
       "      <th>Fine04</th>\n",
       "      <th>Fine05</th>\n",
       "      <th>Fine06</th>\n",
       "      <th>Cloud00</th>\n",
       "      <th>Cloud01</th>\n",
       "      <th>Cloud02</th>\n",
       "      <th>CloudFine00</th>\n",
       "      <th>CloudFine01</th>\n",
       "      <th>CloudFine02</th>\n",
       "      <th>FineRain00</th>\n",
       "      <th>FineRain01</th>\n",
       "      <th>FineRain02</th>\n",
       "      <th>FineRain03</th>\n",
       "    </tr>\n",
       "  </thead>\n",
       "  <tbody>\n",
       "    <tr>\n",
       "      <th>5:00</th>\n",
       "      <td>Clear/Fine</td>\n",
       "      <td>Sunny</td>\n",
       "      <td>Sunny</td>\n",
       "      <td>Sunny</td>\n",
       "      <td>Sunny</td>\n",
       "      <td>Sunny</td>\n",
       "      <td>Sunny</td>\n",
       "      <td>Cloudy</td>\n",
       "      <td>Cloudy</td>\n",
       "      <td>Cloudy</td>\n",
       "      <td>Rain clouds</td>\n",
       "      <td>Sunny</td>\n",
       "      <td>Clear/Fine</td>\n",
       "      <td>Sunny</td>\n",
       "      <td>Sunny</td>\n",
       "      <td>Clear/Fine</td>\n",
       "      <td>Sunny</td>\n",
       "    </tr>\n",
       "    <tr>\n",
       "      <th>6:00</th>\n",
       "      <td>Sunny</td>\n",
       "      <td>Clear/Fine</td>\n",
       "      <td>Sunny</td>\n",
       "      <td>Sunny</td>\n",
       "      <td>Sunny</td>\n",
       "      <td>Sunny</td>\n",
       "      <td>Cloudy</td>\n",
       "      <td>Rain clouds</td>\n",
       "      <td>Cloudy</td>\n",
       "      <td>Cloudy</td>\n",
       "      <td>Rain</td>\n",
       "      <td>Rain</td>\n",
       "      <td>Cloudy</td>\n",
       "      <td>Sunny</td>\n",
       "      <td>Clear/Fine</td>\n",
       "      <td>Clear/Fine</td>\n",
       "      <td>Sunny</td>\n",
       "    </tr>\n",
       "  </tbody>\n",
       "</table>\n",
       "</div>"
      ],
      "text/plain": [
       "          Fine00      Fine01 Fine02 Fine03 Fine04 Fine05  Fine06      Cloud00  \\\n",
       "5:00  Clear/Fine       Sunny  Sunny  Sunny  Sunny  Sunny   Sunny       Cloudy   \n",
       "6:00       Sunny  Clear/Fine  Sunny  Sunny  Sunny  Sunny  Cloudy  Rain clouds   \n",
       "\n",
       "     Cloud01 Cloud02  CloudFine00 CloudFine01 CloudFine02 FineRain00  \\\n",
       "5:00  Cloudy  Cloudy  Rain clouds       Sunny  Clear/Fine      Sunny   \n",
       "6:00  Cloudy  Cloudy         Rain        Rain      Cloudy      Sunny   \n",
       "\n",
       "      FineRain01  FineRain02 FineRain03  \n",
       "5:00       Sunny  Clear/Fine      Sunny  \n",
       "6:00  Clear/Fine  Clear/Fine      Sunny  "
      ]
     },
     "execution_count": 5,
     "metadata": {},
     "output_type": "execute_result"
    }
   ],
   "source": [
    "# need to cast to list to get to work w/ loc\n",
    "df.loc[list(two_times)]"
   ]
  },
  {
   "cell_type": "markdown",
   "metadata": {},
   "source": [
    "There are 24 choose 2 combinations of hours to consider:"
   ]
  },
  {
   "cell_type": "code",
   "execution_count": 6,
   "metadata": {},
   "outputs": [
    {
     "data": {
      "text/plain": [
       "276"
      ]
     },
     "execution_count": 6,
     "metadata": {},
     "output_type": "execute_result"
    }
   ],
   "source": [
    "len(list(combinations(df.index, 2)))"
   ]
  },
  {
   "cell_type": "markdown",
   "metadata": {},
   "source": [
    "How many possible weather combinations are there?"
   ]
  },
  {
   "cell_type": "code",
   "execution_count": 7,
   "metadata": {},
   "outputs": [
    {
     "data": {
      "text/plain": [
       "['Clear/Fine', 'Sunny', 'Cloudy', 'Rain clouds', 'Rain', 'Heavy rain']"
      ]
     },
     "execution_count": 7,
     "metadata": {},
     "output_type": "execute_result"
    }
   ],
   "source": [
    "w = list(patterns_dict.values())\n",
    "w"
   ]
  },
  {
   "cell_type": "code",
   "execution_count": 8,
   "metadata": {},
   "outputs": [
    {
     "data": {
      "text/plain": [
       "21"
      ]
     },
     "execution_count": 8,
     "metadata": {},
     "output_type": "execute_result"
    }
   ],
   "source": [
    "len(list(combinations_with_replacement(w, 2)))"
   ]
  },
  {
   "cell_type": "code",
   "execution_count": 9,
   "metadata": {},
   "outputs": [
    {
     "data": {
      "text/plain": [
       "30"
      ]
     },
     "execution_count": 9,
     "metadata": {},
     "output_type": "execute_result"
    }
   ],
   "source": [
    "len(list(permutations(w, 2)))"
   ]
  },
  {
   "cell_type": "markdown",
   "metadata": {},
   "source": [
    "### Is there any combination of 2 hours that will successfully identify weather pattern?\n",
    "\n",
    "There are 17 weather patterns. If any 2 hours successfully identities the weather pattern for all weather patterns, the length of the set of tuples representing weather at each hour should be 17."
   ]
  },
  {
   "cell_type": "code",
   "execution_count": 10,
   "metadata": {},
   "outputs": [
    {
     "data": {
      "text/plain": [
       "('5:00', '6:00')"
      ]
     },
     "execution_count": 10,
     "metadata": {},
     "output_type": "execute_result"
    }
   ],
   "source": [
    "two_times"
   ]
  },
  {
   "cell_type": "code",
   "execution_count": 11,
   "metadata": {},
   "outputs": [
    {
     "data": {
      "text/plain": [
       "[('Clear/Fine', 'Sunny'),\n",
       " ('Sunny', 'Clear/Fine'),\n",
       " ('Sunny', 'Sunny'),\n",
       " ('Sunny', 'Sunny'),\n",
       " ('Sunny', 'Sunny')]"
      ]
     },
     "execution_count": 11,
     "metadata": {},
     "output_type": "execute_result"
    }
   ],
   "source": [
    "# Testing on just one tuple first...\n",
    "list(df.loc[list(two_times)].T.itertuples(name=None, index=False))[:5]"
   ]
  },
  {
   "cell_type": "code",
   "execution_count": 12,
   "metadata": {},
   "outputs": [
    {
     "data": {
      "text/plain": [
       "10"
      ]
     },
     "execution_count": 12,
     "metadata": {},
     "output_type": "execute_result"
    }
   ],
   "source": [
    "# clearly 5:00 and 6:00 will not work!\n",
    "# there are only 10 unique weather patterns in 5am and 6am\n",
    "len(set(list(df.loc[list(two_times)].T.itertuples(name=None, index=False))))"
   ]
  },
  {
   "cell_type": "markdown",
   "metadata": {},
   "source": [
    "Set up a function to evaluate if a given tuple of times results in 17 unique weather patterns..."
   ]
  },
  {
   "cell_type": "code",
   "execution_count": 13,
   "metadata": {},
   "outputs": [],
   "source": [
    "def evaluate_if_unique(dataframe, times):\n",
    "    '''\n",
    "    This function accepts a dataframe and a tuple of times.\n",
    "    \n",
    "    It checks if the selected times have 17 unique weather combos.\n",
    "    '''\n",
    "    \n",
    "    times = list(times)\n",
    "    subset = dataframe.loc[times]\n",
    "    # how did i delete 'set' earlier...?\n",
    "    n_weather_combos = len(set(subset.T.itertuples(name=None, index=False)))\n",
    "    \n",
    "    return n_weather_combos == 17"
   ]
  },
  {
   "cell_type": "code",
   "execution_count": 14,
   "metadata": {},
   "outputs": [
    {
     "name": "stdout",
     "output_type": "stream",
     "text": [
      "('5:00', '6:00')\n"
     ]
    },
    {
     "data": {
      "text/plain": [
       "False"
      ]
     },
     "execution_count": 14,
     "metadata": {},
     "output_type": "execute_result"
    }
   ],
   "source": [
    "# example\n",
    "print(two_times)\n",
    "evaluate_if_unique(df, two_times)"
   ]
  },
  {
   "cell_type": "markdown",
   "metadata": {},
   "source": [
    "It doesn't look like there's a pair of hours that works."
   ]
  },
  {
   "cell_type": "code",
   "execution_count": 15,
   "metadata": {},
   "outputs": [
    {
     "name": "stdout",
     "output_type": "stream",
     "text": [
      "276\n"
     ]
    }
   ],
   "source": [
    "failures = []\n",
    "for times in combinations(df.index, 2):\n",
    "    if evaluate_if_unique(df, times):\n",
    "        print(times)\n",
    "    else:\n",
    "        failures.append(times)\n",
    "print(len(failures))"
   ]
  },
  {
   "cell_type": "markdown",
   "metadata": {},
   "source": [
    "Tinkering..."
   ]
  },
  {
   "cell_type": "code",
   "execution_count": 16,
   "metadata": {},
   "outputs": [
    {
     "data": {
      "text/plain": [
       "('5:00', '6:00')"
      ]
     },
     "execution_count": 16,
     "metadata": {},
     "output_type": "execute_result"
    }
   ],
   "source": [
    "all_times_2 = list(combinations(df.index, 2))\n",
    "all_times_2[0]"
   ]
  },
  {
   "cell_type": "code",
   "execution_count": 17,
   "metadata": {},
   "outputs": [],
   "source": [
    "def df_from_times(dataframe, times):\n",
    "    ''' ...? '''\n",
    "    times = list(times)\n",
    "    return df.loc[times]"
   ]
  },
  {
   "cell_type": "code",
   "execution_count": 18,
   "metadata": {},
   "outputs": [
    {
     "data": {
      "text/html": [
       "<div>\n",
       "<style scoped>\n",
       "    .dataframe tbody tr th:only-of-type {\n",
       "        vertical-align: middle;\n",
       "    }\n",
       "\n",
       "    .dataframe tbody tr th {\n",
       "        vertical-align: top;\n",
       "    }\n",
       "\n",
       "    .dataframe thead th {\n",
       "        text-align: right;\n",
       "    }\n",
       "</style>\n",
       "<table border=\"1\" class=\"dataframe\">\n",
       "  <thead>\n",
       "    <tr style=\"text-align: right;\">\n",
       "      <th></th>\n",
       "      <th>Fine00</th>\n",
       "      <th>Fine01</th>\n",
       "      <th>Fine02</th>\n",
       "      <th>Fine03</th>\n",
       "      <th>Fine04</th>\n",
       "      <th>Fine05</th>\n",
       "      <th>Fine06</th>\n",
       "      <th>Cloud00</th>\n",
       "      <th>Cloud01</th>\n",
       "      <th>Cloud02</th>\n",
       "      <th>CloudFine00</th>\n",
       "      <th>CloudFine01</th>\n",
       "      <th>CloudFine02</th>\n",
       "      <th>FineRain00</th>\n",
       "      <th>FineRain01</th>\n",
       "      <th>FineRain02</th>\n",
       "      <th>FineRain03</th>\n",
       "    </tr>\n",
       "  </thead>\n",
       "  <tbody>\n",
       "    <tr>\n",
       "      <th>5:00</th>\n",
       "      <td>Clear/Fine</td>\n",
       "      <td>Sunny</td>\n",
       "      <td>Sunny</td>\n",
       "      <td>Sunny</td>\n",
       "      <td>Sunny</td>\n",
       "      <td>Sunny</td>\n",
       "      <td>Sunny</td>\n",
       "      <td>Cloudy</td>\n",
       "      <td>Cloudy</td>\n",
       "      <td>Cloudy</td>\n",
       "      <td>Rain clouds</td>\n",
       "      <td>Sunny</td>\n",
       "      <td>Clear/Fine</td>\n",
       "      <td>Sunny</td>\n",
       "      <td>Sunny</td>\n",
       "      <td>Clear/Fine</td>\n",
       "      <td>Sunny</td>\n",
       "    </tr>\n",
       "    <tr>\n",
       "      <th>6:00</th>\n",
       "      <td>Sunny</td>\n",
       "      <td>Clear/Fine</td>\n",
       "      <td>Sunny</td>\n",
       "      <td>Sunny</td>\n",
       "      <td>Sunny</td>\n",
       "      <td>Sunny</td>\n",
       "      <td>Cloudy</td>\n",
       "      <td>Rain clouds</td>\n",
       "      <td>Cloudy</td>\n",
       "      <td>Cloudy</td>\n",
       "      <td>Rain</td>\n",
       "      <td>Rain</td>\n",
       "      <td>Cloudy</td>\n",
       "      <td>Sunny</td>\n",
       "      <td>Clear/Fine</td>\n",
       "      <td>Clear/Fine</td>\n",
       "      <td>Sunny</td>\n",
       "    </tr>\n",
       "  </tbody>\n",
       "</table>\n",
       "</div>"
      ],
      "text/plain": [
       "          Fine00      Fine01 Fine02 Fine03 Fine04 Fine05  Fine06      Cloud00  \\\n",
       "5:00  Clear/Fine       Sunny  Sunny  Sunny  Sunny  Sunny   Sunny       Cloudy   \n",
       "6:00       Sunny  Clear/Fine  Sunny  Sunny  Sunny  Sunny  Cloudy  Rain clouds   \n",
       "\n",
       "     Cloud01 Cloud02  CloudFine00 CloudFine01 CloudFine02 FineRain00  \\\n",
       "5:00  Cloudy  Cloudy  Rain clouds       Sunny  Clear/Fine      Sunny   \n",
       "6:00  Cloudy  Cloudy         Rain        Rain      Cloudy      Sunny   \n",
       "\n",
       "      FineRain01  FineRain02 FineRain03  \n",
       "5:00       Sunny  Clear/Fine      Sunny  \n",
       "6:00  Clear/Fine  Clear/Fine      Sunny  "
      ]
     },
     "execution_count": 18,
     "metadata": {},
     "output_type": "execute_result"
    }
   ],
   "source": [
    "df_from_times(df, all_times_2[0])"
   ]
  },
  {
   "cell_type": "markdown",
   "metadata": {},
   "source": [
    "I want to know _what combinations occur at what hours, and how often_."
   ]
  },
  {
   "cell_type": "code",
   "execution_count": 19,
   "metadata": {},
   "outputs": [],
   "source": [
    "c = Counter(list(df_from_times(df, all_times_2[0]).T.itertuples(name=None, index=False)))"
   ]
  },
  {
   "cell_type": "code",
   "execution_count": 20,
   "metadata": {},
   "outputs": [],
   "source": [
    "d = {}\n",
    "\n",
    "for times in combinations(df.index, 2):\n",
    "    d[times] = Counter(list(df_from_times(df, times).T.itertuples(name=None, index=False)))"
   ]
  },
  {
   "cell_type": "code",
   "execution_count": 21,
   "metadata": {},
   "outputs": [
    {
     "data": {
      "text/html": [
       "<div>\n",
       "<style scoped>\n",
       "    .dataframe tbody tr th:only-of-type {\n",
       "        vertical-align: middle;\n",
       "    }\n",
       "\n",
       "    .dataframe tbody tr th {\n",
       "        vertical-align: top;\n",
       "    }\n",
       "\n",
       "    .dataframe thead th {\n",
       "        text-align: right;\n",
       "    }\n",
       "</style>\n",
       "<table border=\"1\" class=\"dataframe\">\n",
       "  <thead>\n",
       "    <tr style=\"text-align: right;\">\n",
       "      <th></th>\n",
       "      <th>0</th>\n",
       "    </tr>\n",
       "  </thead>\n",
       "  <tbody>\n",
       "    <tr>\n",
       "      <th>('6:00', '14:00')</th>\n",
       "      <td>12</td>\n",
       "    </tr>\n",
       "    <tr>\n",
       "      <th>('12:00', '15:00')</th>\n",
       "      <td>12</td>\n",
       "    </tr>\n",
       "    <tr>\n",
       "      <th>('6:00', '13:00')</th>\n",
       "      <td>12</td>\n",
       "    </tr>\n",
       "    <tr>\n",
       "      <th>('9:00', '12:00')</th>\n",
       "      <td>12</td>\n",
       "    </tr>\n",
       "    <tr>\n",
       "      <th>('10:00', '12:00')</th>\n",
       "      <td>12</td>\n",
       "    </tr>\n",
       "    <tr>\n",
       "      <th>('7:00', '13:00')</th>\n",
       "      <td>12</td>\n",
       "    </tr>\n",
       "    <tr>\n",
       "      <th>('6:00', '15:00')</th>\n",
       "      <td>13</td>\n",
       "    </tr>\n",
       "  </tbody>\n",
       "</table>\n",
       "</div>"
      ],
      "text/plain": [
       "                     0\n",
       "('6:00', '14:00')   12\n",
       "('12:00', '15:00')  12\n",
       "('6:00', '13:00')   12\n",
       "('9:00', '12:00')   12\n",
       "('10:00', '12:00')  12\n",
       "('7:00', '13:00')   12\n",
       "('6:00', '15:00')   13"
      ]
     },
     "execution_count": 21,
     "metadata": {},
     "output_type": "execute_result"
    }
   ],
   "source": [
    "pd.DataFrame({str(k): [len(v)] for k, v in d.items()}).T.sort_values(by=0).tail(7)"
   ]
  },
  {
   "cell_type": "code",
   "execution_count": 22,
   "metadata": {},
   "outputs": [],
   "source": [
    "# WHY does k need to be cast to str here?? \n",
    "# something about unpacking screwing up the tuple...??? follow up\n",
    "times_to_check = pd.DataFrame({str(k): [len(v)] for k, v in d.items()}).T.sort_values(by=0).tail(7).index"
   ]
  },
  {
   "cell_type": "code",
   "execution_count": 23,
   "metadata": {},
   "outputs": [
    {
     "data": {
      "text/plain": [
       "Index(['('6:00', '14:00')', '('12:00', '15:00')', '('6:00', '13:00')',\n",
       "       '('9:00', '12:00')', '('10:00', '12:00')', '('7:00', '13:00')',\n",
       "       '('6:00', '15:00')'],\n",
       "      dtype='object')"
      ]
     },
     "execution_count": 23,
     "metadata": {},
     "output_type": "execute_result"
    }
   ],
   "source": [
    "times_to_check"
   ]
  },
  {
   "cell_type": "code",
   "execution_count": 24,
   "metadata": {},
   "outputs": [
    {
     "data": {
      "text/plain": [
       "Counter({('Clear/Fine', 'Clear/Fine'): 1,\n",
       "         ('Clear/Fine', 'Cloudy'): 1,\n",
       "         ('Clear/Fine', 'Rain'): 1,\n",
       "         ('Clear/Fine', 'Sunny'): 1,\n",
       "         ('Cloudy', 'Cloudy'): 1,\n",
       "         ('Cloudy', 'Sunny'): 2,\n",
       "         ('Rain', 'Cloudy'): 1,\n",
       "         ('Rain clouds', 'Rain clouds'): 1,\n",
       "         ('Rain clouds', 'Sunny'): 1,\n",
       "         ('Sunny', 'Clear/Fine'): 1,\n",
       "         ('Sunny', 'Cloudy'): 1,\n",
       "         ('Sunny', 'Sunny'): 5})"
      ]
     },
     "execution_count": 24,
     "metadata": {},
     "output_type": "execute_result"
    }
   ],
   "source": [
    "d[('7:00', '13:00')]"
   ]
  },
  {
   "cell_type": "code",
   "execution_count": 25,
   "metadata": {},
   "outputs": [
    {
     "data": {
      "text/plain": [
       "Counter({('Clear/Fine', 'Clear/Fine'): 1,\n",
       "         ('Clear/Fine', 'Heavy rain'): 1,\n",
       "         ('Clear/Fine', 'Sunny'): 1,\n",
       "         ('Cloudy', 'Clear/Fine'): 1,\n",
       "         ('Cloudy', 'Cloudy'): 1,\n",
       "         ('Cloudy', 'Rain'): 1,\n",
       "         ('Cloudy', 'Sunny'): 1,\n",
       "         ('Rain', 'Cloudy'): 1,\n",
       "         ('Rain', 'Sunny'): 1,\n",
       "         ('Rain clouds', 'Sunny'): 1,\n",
       "         ('Sunny', 'Clear/Fine'): 1,\n",
       "         ('Sunny', 'Rain'): 1,\n",
       "         ('Sunny', 'Sunny'): 5})"
      ]
     },
     "execution_count": 25,
     "metadata": {},
     "output_type": "execute_result"
    }
   ],
   "source": [
    "d[('6:00', '15:00')]"
   ]
  },
  {
   "cell_type": "markdown",
   "metadata": {},
   "source": [
    "## OK -- my two candidate pairs are...\n",
    "- `('6:00', '15:00')`\n",
    "- `('7:00', '13:00')`\n",
    "\n",
    "They each have 12 unique combinations, and sunny/sunny shows up 5 times.\n",
    "\n",
    "### The next question\n",
    "\n",
    "For sunny/sunny days on my candidate pair time pairs, **what is the third time I should check** to uniquely identify the weather pattern?\n",
    "\n",
    "This will be different for each."
   ]
  },
  {
   "cell_type": "markdown",
   "metadata": {},
   "source": [
    "### Testing 6 & 15"
   ]
  },
  {
   "cell_type": "code",
   "execution_count": 26,
   "metadata": {},
   "outputs": [],
   "source": [
    "# I want just the column names where both rows are sunny\n",
    "pair_6_15 = df_from_times(df, ('6:00', '15:00'))\n",
    "\n",
    "sunny_6 = pair_6_15.T['6:00'] == 'Sunny'\n",
    "sunny_15 = pair_6_15.T['15:00'] == 'Sunny'\n",
    "\n",
    "# pair_6_15.T[sunny_6 & sunny_15]\n",
    "day_types_6_15 = pair_6_15.T[sunny_6 & sunny_15].index\n",
    "\n",
    "df_6_15 = df[day_types_6_15].copy()\n",
    "df_6_15.drop(['6:00', '15:00'], inplace=True)"
   ]
  },
  {
   "cell_type": "code",
   "execution_count": 27,
   "metadata": {},
   "outputs": [
    {
     "data": {
      "text/plain": [
       "('5:00', Fine00        Clear/Fine\n",
       " Fine02             Sunny\n",
       " Fine04             Sunny\n",
       " Fine05             Sunny\n",
       " FineRain00         Sunny\n",
       " Name: 5:00, dtype: object)"
      ]
     },
     "execution_count": 27,
     "metadata": {},
     "output_type": "execute_result"
    }
   ],
   "source": [
    "list(df_6_15.iterrows())[0]"
   ]
  },
  {
   "cell_type": "code",
   "execution_count": 28,
   "metadata": {},
   "outputs": [
    {
     "data": {
      "text/plain": [
       "2"
      ]
     },
     "execution_count": 28,
     "metadata": {},
     "output_type": "execute_result"
    }
   ],
   "source": [
    "len(set(df_6_15.iloc[0].values))"
   ]
  },
  {
   "cell_type": "code",
   "execution_count": 29,
   "metadata": {},
   "outputs": [],
   "source": [
    "dates_6_15 = []\n",
    "\n",
    "for ix in range(22):\n",
    "    if len(set(df_6_15.iloc[ix].values)) > 2:\n",
    "        dates_6_15.append(ix)"
   ]
  },
  {
   "cell_type": "code",
   "execution_count": 30,
   "metadata": {},
   "outputs": [
    {
     "data": {
      "text/html": [
       "<div>\n",
       "<style scoped>\n",
       "    .dataframe tbody tr th:only-of-type {\n",
       "        vertical-align: middle;\n",
       "    }\n",
       "\n",
       "    .dataframe tbody tr th {\n",
       "        vertical-align: top;\n",
       "    }\n",
       "\n",
       "    .dataframe thead th {\n",
       "        text-align: right;\n",
       "    }\n",
       "</style>\n",
       "<table border=\"1\" class=\"dataframe\">\n",
       "  <thead>\n",
       "    <tr style=\"text-align: right;\">\n",
       "      <th></th>\n",
       "      <th>Fine00</th>\n",
       "      <th>Fine02</th>\n",
       "      <th>Fine04</th>\n",
       "      <th>Fine05</th>\n",
       "      <th>FineRain00</th>\n",
       "    </tr>\n",
       "  </thead>\n",
       "  <tbody>\n",
       "    <tr>\n",
       "      <th>9:00</th>\n",
       "      <td>Clear/Fine</td>\n",
       "      <td>Clear/Fine</td>\n",
       "      <td>Cloudy</td>\n",
       "      <td>Sunny</td>\n",
       "      <td>Clear/Fine</td>\n",
       "    </tr>\n",
       "    <tr>\n",
       "      <th>13:00</th>\n",
       "      <td>Sunny</td>\n",
       "      <td>Clear/Fine</td>\n",
       "      <td>Sunny</td>\n",
       "      <td>Sunny</td>\n",
       "      <td>Rain</td>\n",
       "    </tr>\n",
       "    <tr>\n",
       "      <th>14:00</th>\n",
       "      <td>Clear/Fine</td>\n",
       "      <td>Sunny</td>\n",
       "      <td>Cloudy</td>\n",
       "      <td>Cloudy</td>\n",
       "      <td>Sunny</td>\n",
       "    </tr>\n",
       "    <tr>\n",
       "      <th>18:00</th>\n",
       "      <td>Sunny</td>\n",
       "      <td>Cloudy</td>\n",
       "      <td>Clear/Fine</td>\n",
       "      <td>Sunny</td>\n",
       "      <td>Sunny</td>\n",
       "    </tr>\n",
       "    <tr>\n",
       "      <th>19:00</th>\n",
       "      <td>Clear/Fine</td>\n",
       "      <td>Sunny</td>\n",
       "      <td>Sunny</td>\n",
       "      <td>Cloudy</td>\n",
       "      <td>Clear/Fine</td>\n",
       "    </tr>\n",
       "  </tbody>\n",
       "</table>\n",
       "</div>"
      ],
      "text/plain": [
       "           Fine00      Fine02      Fine04  Fine05  FineRain00\n",
       "9:00   Clear/Fine  Clear/Fine      Cloudy   Sunny  Clear/Fine\n",
       "13:00       Sunny  Clear/Fine       Sunny   Sunny        Rain\n",
       "14:00  Clear/Fine       Sunny      Cloudy  Cloudy       Sunny\n",
       "18:00       Sunny      Cloudy  Clear/Fine   Sunny       Sunny\n",
       "19:00  Clear/Fine       Sunny       Sunny  Cloudy  Clear/Fine"
      ]
     },
     "execution_count": 30,
     "metadata": {},
     "output_type": "execute_result"
    }
   ],
   "source": [
    "df_6_15.iloc[dates_6_15]"
   ]
  },
  {
   "cell_type": "markdown",
   "metadata": {},
   "source": [
    "### Testing 7 & 13"
   ]
  },
  {
   "cell_type": "code",
   "execution_count": 31,
   "metadata": {},
   "outputs": [],
   "source": [
    "# df_from_times(df, ('7:00', '13:00'))\n",
    "\n",
    "pair_7_13 = df_from_times(df, ('7:00', '13:00'))\n",
    "\n",
    "sunny_7 = pair_7_13.T['7:00'] == 'Sunny'\n",
    "sunny_13 = pair_7_13.T['13:00'] == 'Sunny'\n",
    "\n",
    "# pair_7_13.T[sunny_7 & sunny_13]\n",
    "\n",
    "day_types_7_13 = pair_7_13.T[sunny_7 & sunny_13].index\n",
    "\n",
    "df_7_13 = df[day_types_7_13].copy()\n",
    "df_7_13.drop(['7:00', '13:00'], inplace=True)"
   ]
  },
  {
   "cell_type": "code",
   "execution_count": 32,
   "metadata": {},
   "outputs": [
    {
     "data": {
      "text/plain": [
       "(22, 5)"
      ]
     },
     "execution_count": 32,
     "metadata": {},
     "output_type": "execute_result"
    }
   ],
   "source": [
    "df_7_13.shape"
   ]
  },
  {
   "cell_type": "code",
   "execution_count": 33,
   "metadata": {},
   "outputs": [],
   "source": [
    "dates_7_13 = []\n",
    "\n",
    "for ix in range(22):\n",
    "    if len(set(df_7_13.iloc[ix].values)) > 2:\n",
    "        dates_7_13.append(ix)"
   ]
  },
  {
   "cell_type": "code",
   "execution_count": 34,
   "metadata": {},
   "outputs": [
    {
     "data": {
      "text/plain": [
       "[1, 7, 8, 9, 10, 11, 12, 17]"
      ]
     },
     "execution_count": 34,
     "metadata": {},
     "output_type": "execute_result"
    }
   ],
   "source": [
    "dates_7_13"
   ]
  },
  {
   "cell_type": "code",
   "execution_count": 35,
   "metadata": {},
   "outputs": [
    {
     "data": {
      "text/plain": [
       "[1, 7, 8, 9, 10, 11, 12, 17]"
      ]
     },
     "execution_count": 35,
     "metadata": {},
     "output_type": "execute_result"
    }
   ],
   "source": [
    "dates_7_13"
   ]
  },
  {
   "cell_type": "code",
   "execution_count": 36,
   "metadata": {},
   "outputs": [],
   "source": [
    "dates_7_13 = []\n",
    "\n",
    "for ix in range(22):\n",
    "    if len(set(df_7_13.iloc[ix].values)) > 3:\n",
    "        dates_7_13.append(ix)"
   ]
  },
  {
   "cell_type": "code",
   "execution_count": 37,
   "metadata": {},
   "outputs": [
    {
     "data": {
      "text/plain": [
       "[8]"
      ]
     },
     "execution_count": 37,
     "metadata": {},
     "output_type": "execute_result"
    }
   ],
   "source": [
    "dates_7_13"
   ]
  },
  {
   "cell_type": "code",
   "execution_count": 38,
   "metadata": {},
   "outputs": [
    {
     "data": {
      "text/plain": [
       "Fine04             Sunny\n",
       "Fine05             Sunny\n",
       "Fine06        Clear/Fine\n",
       "FineRain02    Heavy rain\n",
       "FineRain03          Rain\n",
       "Name: 15:00, dtype: object"
      ]
     },
     "execution_count": 38,
     "metadata": {},
     "output_type": "execute_result"
    }
   ],
   "source": [
    "# if sunny at 15:00 still haven't confirmed what pattern\n",
    "df_7_13.iloc[8]"
   ]
  },
  {
   "cell_type": "code",
   "execution_count": 39,
   "metadata": {},
   "outputs": [
    {
     "data": {
      "text/html": [
       "<div>\n",
       "<style scoped>\n",
       "    .dataframe tbody tr th:only-of-type {\n",
       "        vertical-align: middle;\n",
       "    }\n",
       "\n",
       "    .dataframe tbody tr th {\n",
       "        vertical-align: top;\n",
       "    }\n",
       "\n",
       "    .dataframe thead th {\n",
       "        text-align: right;\n",
       "    }\n",
       "</style>\n",
       "<table border=\"1\" class=\"dataframe\">\n",
       "  <thead>\n",
       "    <tr style=\"text-align: right;\">\n",
       "      <th></th>\n",
       "      <th>Fine04</th>\n",
       "      <th>Fine05</th>\n",
       "      <th>Fine06</th>\n",
       "      <th>FineRain02</th>\n",
       "      <th>FineRain03</th>\n",
       "    </tr>\n",
       "  </thead>\n",
       "  <tbody>\n",
       "    <tr>\n",
       "      <th>15:00</th>\n",
       "      <td>Sunny</td>\n",
       "      <td>Sunny</td>\n",
       "      <td>Clear/Fine</td>\n",
       "      <td>Heavy rain</td>\n",
       "      <td>Rain</td>\n",
       "    </tr>\n",
       "    <tr>\n",
       "      <th>16:00</th>\n",
       "      <td>Clear/Fine</td>\n",
       "      <td>Sunny</td>\n",
       "      <td>Sunny</td>\n",
       "      <td>Cloudy</td>\n",
       "      <td>Sunny</td>\n",
       "    </tr>\n",
       "  </tbody>\n",
       "</table>\n",
       "</div>"
      ],
      "text/plain": [
       "           Fine04 Fine05      Fine06  FineRain02 FineRain03\n",
       "15:00       Sunny  Sunny  Clear/Fine  Heavy rain       Rain\n",
       "16:00  Clear/Fine  Sunny       Sunny      Cloudy      Sunny"
      ]
     },
     "execution_count": 39,
     "metadata": {},
     "output_type": "execute_result"
    }
   ],
   "source": [
    "# but checking 16:00 should fix that\n",
    "df_7_13.iloc[[8, 9]]"
   ]
  },
  {
   "cell_type": "markdown",
   "metadata": {},
   "source": [
    "# Conclusion\n",
    "\n",
    "- Test 7:00 and 13:00. Often the weather at just those two hours will identify the day's pattern.\n",
    "- If 7:00 and 13:00 are both sunny, check 15:00.\n",
    "- If 15:00 is sunny, check 16:00.\n",
    "\n",
    "This may not be the _maximally_ efficient way to hone in on a weather seed using MeteoNook, but it worked well for me. I used a combination of data collected while playing the game normally & "
   ]
  }
 ],
 "metadata": {
  "kernelspec": {
   "display_name": "Python 3",
   "language": "python",
   "name": "python3"
  },
  "language_info": {
   "codemirror_mode": {
    "name": "ipython",
    "version": 3
   },
   "file_extension": ".py",
   "mimetype": "text/x-python",
   "name": "python",
   "nbconvert_exporter": "python",
   "pygments_lexer": "ipython3",
   "version": "3.6.4"
  }
 },
 "nbformat": 4,
 "nbformat_minor": 4
}
